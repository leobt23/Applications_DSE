{
 "cells": [
  {
   "cell_type": "code",
   "execution_count": 1,
   "metadata": {},
   "outputs": [],
   "source": [
    "import matplotlib.pyplot as plt\n",
    "\n",
    "\n",
    "def plot_all_metric_and_model_comparation():\n",
    "    models_metrics = {}\n",
    "\n",
    "    titles = [\n",
    "        \"ROC_AUC_Scores_Comparison\",\n",
    "        \"F1_Scores_Comparison\",\n",
    "        \"Accuracy_Comparison\"\n",
    "    ]\n",
    "\n",
    "    with open(\"data_generated/test/test_all_summary.txt\", \"r\") as file:\n",
    "        lines = file.readlines()\n",
    "        for line in lines:\n",
    "            if line.startswith(\"Type\"):  # Skip header or unrelated lines\n",
    "                continue\n",
    "            parts = line.split(\": \", 1)\n",
    "            if len(parts) == 2:\n",
    "                model_name = parts[0].strip()\n",
    "                metrics = eval(parts[1].strip())  # Convert string representation of dictionary to actual dictionary\n",
    "                models_metrics[model_name] = metrics\n",
    "\n",
    "    roc_auc_scores = {model: metrics[\"ROC AUC\"] for model, metrics in models_metrics.items()}\n",
    "    f1_scores = {model: metrics[\"F1 Score\"] for model, metrics in models_metrics.items()}\n",
    "    accuracies = {model: metrics[\"Accuracy\"] for model, metrics in models_metrics.items()}\n",
    "    colors = [\"blue\", \"green\", \"red\", \"purple\", \"orange\"]\n",
    "\n",
    "    for metrics, title in zip([roc_auc_scores, f1_scores, accuracies], titles):\n",
    "        names = list(metrics.keys())\n",
    "        values = list(metrics.values())\n",
    "        plt.figure(figsize=(10, 6))  # You can adjust the figure size\n",
    "        plt.bar(names, values, color=colors[:len(metrics)])\n",
    "        plt.ylabel(\"Score\")\n",
    "        plt.title(title.replace('_', ' '))\n",
    "        plt.xticks(rotation=45)\n",
    "        plt.savefig(f\"data_generated/test/plots/{title}.png\")\n",
    "        plt.close()\n",
    "plot_all_metric_and_model_comparation()\n",
    "\n"
   ]
  },
  {
   "cell_type": "code",
   "execution_count": null,
   "metadata": {},
   "outputs": [],
   "source": []
  },
  {
   "cell_type": "code",
   "execution_count": null,
   "metadata": {},
   "outputs": [],
   "source": []
  }
 ],
 "metadata": {
  "kernelspec": {
   "display_name": "DSapplications",
   "language": "python",
   "name": "python3"
  },
  "language_info": {
   "codemirror_mode": {
    "name": "ipython",
    "version": 3
   },
   "file_extension": ".py",
   "mimetype": "text/x-python",
   "name": "python",
   "nbconvert_exporter": "python",
   "pygments_lexer": "ipython3",
   "version": "3.9.18"
  }
 },
 "nbformat": 4,
 "nbformat_minor": 2
}
