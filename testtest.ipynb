{
 "cells": [
  {
   "cell_type": "code",
   "execution_count": 1,
   "metadata": {},
   "outputs": [
    {
     "name": "stdout",
     "output_type": "stream",
     "text": [
      "Before SMOTE:  {0: 990, 1: 10}\n",
      "After SMOTE:  {0: 990, 1: 990}\n"
     ]
    }
   ],
   "source": [
    "import numpy as np\n",
    "from sklearn.datasets import make_classification\n",
    "from imblearn.over_sampling import SMOTE\n",
    "\n",
    "# Create a synthetic imbalanced dataset\n",
    "X, y = make_classification(n_samples=1000, n_features=2, \n",
    "                           n_redundant=0, n_clusters_per_class=1, \n",
    "                           weights=[0.99], flip_y=0, random_state=1)\n",
    "\n",
    "# Summarize class distribution\n",
    "print(\"Before SMOTE: \", dict(zip(*np.unique(y, return_counts=True))))\n",
    "\n",
    "# Apply SMOTE to balance the two classes\n",
    "smote = SMOTE()\n",
    "X_res, y_res = smote.fit_resample(X, y)\n",
    "\n",
    "# Summarize the new class distribution\n",
    "print(\"After SMOTE: \", dict(zip(*np.unique(y_res, return_counts=True))))\n"
   ]
  }
 ],
 "metadata": {
  "kernelspec": {
   "display_name": "DSapplications",
   "language": "python",
   "name": "python3"
  },
  "language_info": {
   "codemirror_mode": {
    "name": "ipython",
    "version": 3
   },
   "file_extension": ".py",
   "mimetype": "text/x-python",
   "name": "python",
   "nbconvert_exporter": "python",
   "pygments_lexer": "ipython3",
   "version": "3.9.18"
  }
 },
 "nbformat": 4,
 "nbformat_minor": 2
}
