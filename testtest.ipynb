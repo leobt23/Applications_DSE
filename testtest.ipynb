{
 "cells": [
  {
   "cell_type": "code",
   "execution_count": 1,
   "metadata": {},
   "outputs": [],
   "source": [
    "import numpy as np\n",
    "import pandas as pd\n",
    "import os\n",
    "\n",
    "# create X_train, y_train, X_val, y_val, X_test, y_test randomly without anything\n",
    "\n",
    "X_train = np.random.rand(100, 10)\n",
    "# Y are binary\n",
    "y_train = np.random.randint(2, size=100)\n",
    "X_val = np.random.rand(30, 10)\n",
    "y_val = np.random.randint(2, size=30)\n",
    "X_test = np.random.rand(30, 10)\n",
    "y_test = np.random.randint(2, size=30)\n",
    "\n"
   ]
  },
  {
   "cell_type": "code",
   "execution_count": 2,
   "metadata": {},
   "outputs": [],
   "source": [
    "# Keras tuner\n",
    "import tensorflow as tf\n",
    "from tensorflow import keras"
   ]
  },
  {
   "cell_type": "code",
   "execution_count": 3,
   "metadata": {},
   "outputs": [
    {
     "name": "stdout",
     "output_type": "stream",
     "text": [
      "Note: you may need to restart the kernel to use updated packages.\n"
     ]
    }
   ],
   "source": [
    "pip install -q -U keras-tuner"
   ]
  },
  {
   "cell_type": "code",
   "execution_count": 4,
   "metadata": {},
   "outputs": [],
   "source": [
    "import keras_tuner as kt"
   ]
  },
  {
   "cell_type": "code",
   "execution_count": 23,
   "metadata": {},
   "outputs": [
    {
     "name": "stdout",
     "output_type": "stream",
     "text": [
      "Trial 28 Complete [00h 00m 01s]\n",
      "val_accuracy: 0.44999998807907104\n",
      "\n",
      "Best val_accuracy So Far: 0.699999988079071\n",
      "Total elapsed time: 00h 00m 23s\n",
      "<keras_tuner.src.engine.hyperparameters.hyperparameters.HyperParameters object at 0x000002A21FBA18E0>\n",
      "Model: \"sequential_1\"\n",
      "_________________________________________________________________\n",
      " Layer (type)                Output Shape              Param #   \n",
      "=================================================================\n",
      " dense_3 (Dense)             (None, 32)                352       \n",
      "                                                                 \n",
      " dropout_2 (Dropout)         (None, 32)                0         \n",
      "                                                                 \n",
      " dense_4 (Dense)             (None, 128)               4224      \n",
      "                                                                 \n",
      " dropout_3 (Dropout)         (None, 128)               0         \n",
      "                                                                 \n",
      " dense_5 (Dense)             (None, 10)                1290      \n",
      "                                                                 \n",
      "=================================================================\n",
      "Total params: 5,866\n",
      "Trainable params: 5,866\n",
      "Non-trainable params: 0\n",
      "_________________________________________________________________\n"
     ]
    }
   ],
   "source": [
    "import kerastuner as kt\n",
    "from tensorflow.keras.models import Sequential\n",
    "from tensorflow.keras.layers import Dense, Dropout\n",
    "\n",
    "input_shape = X_train.shape[1]  # Number of features from your training data\n",
    "\n",
    "# Define a model-building function for KerasTuner\n",
    "def build_model(hp):\n",
    "    model = Sequential()\n",
    "    # First Dense layer\n",
    "    model.add(Dense(units=hp.Int('units1', min_value=32, max_value=256, step=96),\n",
    "                    activation='relu', input_shape=(input_shape,)))  # input shape inferred\n",
    "    # Dropout layer after the first Dense layer\n",
    "    model.add(Dropout(rate=hp.Float('dropout1', min_value=0.0, max_value=0.5, step=0.25)))\n",
    "    \n",
    "    # Second Dense layer\n",
    "    model.add(Dense(units=hp.Int('units2', min_value=32, max_value=256, step=96),\n",
    "                    activation='relu'))  \n",
    "    # Dropout layer after the second Dense layer\n",
    "    model.add(Dropout(rate=hp.Float('dropout2', min_value=0.0, max_value=0.5, step=0.25)))\n",
    "\n",
    "    model.add(Dense(10, activation='softmax'))  # Example output layer\n",
    "\n",
    "    model.compile(optimizer=hp.Choice('optimizer', values=['adam', 'sgd']),\n",
    "                  loss='sparse_categorical_crossentropy',\n",
    "                  metrics=['accuracy'])\n",
    "    return model\n",
    "\n",
    "# Initialize the tuner by passing the build_model function and specifying the objective\n",
    "tuner = kt.Hyperband(\n",
    "    build_model,\n",
    "    objective='val_accuracy',  # Assuming you have a validation set to evaluate on\n",
    "    max_epochs=10,  # Maximum number of epochs to train one model. Adjust as necessary.\n",
    "    factor=3,  # Reduction factor for the number of epochs and number of models for each bracket.\n",
    "    #directory='my_dir',\n",
    "    #project_name='hyperband_intro'\n",
    ")\n",
    "\n",
    "# Display search space summary\n",
    "tuner.search_space_summary()\n",
    "\n",
    "# Execute the search\n",
    "tuner.search(X_train, y_train, epochs=10, validation_split=0.2)\n",
    "\n",
    "# Get the best hyperparameters and rebuild the model\n",
    "best_hps = tuner.get_best_hyperparameters(num_trials=1)[0]\n",
    "\n",
    "print(f\"{best_hps}\")\n",
    "model = build_model(best_hps)\n",
    "\n",
    "# You might want to train and evaluate here or just directly get the summary\n",
    "model.summary()\n"
   ]
  },
  {
   "cell_type": "code",
   "execution_count": 25,
   "metadata": {},
   "outputs": [
    {
     "name": "stdout",
     "output_type": "stream",
     "text": [
      "{'name': 'sequential_1', 'layers': [{'class_name': 'InputLayer', 'config': {'batch_input_shape': (None, 10), 'dtype': 'float32', 'sparse': False, 'ragged': False, 'name': 'dense_3_input'}}, {'class_name': 'Dense', 'config': {'name': 'dense_3', 'trainable': True, 'batch_input_shape': (None, 10), 'dtype': 'float32', 'units': 32, 'activation': 'relu', 'use_bias': True, 'kernel_initializer': {'class_name': 'GlorotUniform', 'config': {'seed': None}}, 'bias_initializer': {'class_name': 'Zeros', 'config': {}}, 'kernel_regularizer': None, 'bias_regularizer': None, 'activity_regularizer': None, 'kernel_constraint': None, 'bias_constraint': None}}, {'class_name': 'Dropout', 'config': {'name': 'dropout_2', 'trainable': True, 'dtype': 'float32', 'rate': 0.5, 'noise_shape': None, 'seed': None}}, {'class_name': 'Dense', 'config': {'name': 'dense_4', 'trainable': True, 'dtype': 'float32', 'units': 128, 'activation': 'relu', 'use_bias': True, 'kernel_initializer': {'class_name': 'GlorotUniform', 'config': {'seed': None}}, 'bias_initializer': {'class_name': 'Zeros', 'config': {}}, 'kernel_regularizer': None, 'bias_regularizer': None, 'activity_regularizer': None, 'kernel_constraint': None, 'bias_constraint': None}}, {'class_name': 'Dropout', 'config': {'name': 'dropout_3', 'trainable': True, 'dtype': 'float32', 'rate': 0.5, 'noise_shape': None, 'seed': None}}, {'class_name': 'Dense', 'config': {'name': 'dense_5', 'trainable': True, 'dtype': 'float32', 'units': 10, 'activation': 'softmax', 'use_bias': True, 'kernel_initializer': {'class_name': 'GlorotUniform', 'config': {'seed': None}}, 'bias_initializer': {'class_name': 'Zeros', 'config': {}}, 'kernel_regularizer': None, 'bias_regularizer': None, 'activity_regularizer': None, 'kernel_constraint': None, 'bias_constraint': None}}]}\n",
      "Epoch 1/10\n",
      "3/3 [==============================] - 0s 77ms/step - loss: 2.3424 - accuracy: 0.0250 - val_loss: 2.2976 - val_accuracy: 0.0000e+00\n",
      "Epoch 2/10\n",
      "3/3 [==============================] - 0s 12ms/step - loss: 2.2419 - accuracy: 0.1750 - val_loss: 2.2361 - val_accuracy: 0.1000\n",
      "Epoch 3/10\n",
      "3/3 [==============================] - 0s 12ms/step - loss: 2.2295 - accuracy: 0.1250 - val_loss: 2.1769 - val_accuracy: 0.1500\n",
      "Epoch 4/10\n",
      "3/3 [==============================] - 0s 14ms/step - loss: 2.1809 - accuracy: 0.1625 - val_loss: 2.1204 - val_accuracy: 0.2500\n",
      "Epoch 5/10\n",
      "3/3 [==============================] - 0s 12ms/step - loss: 2.1146 - accuracy: 0.2125 - val_loss: 2.0646 - val_accuracy: 0.3000\n",
      "Epoch 6/10\n",
      "3/3 [==============================] - 0s 12ms/step - loss: 2.0138 - accuracy: 0.3125 - val_loss: 2.0058 - val_accuracy: 0.3000\n",
      "Epoch 7/10\n",
      "3/3 [==============================] - 0s 12ms/step - loss: 2.0000 - accuracy: 0.3125 - val_loss: 1.9525 - val_accuracy: 0.3000\n",
      "Epoch 8/10\n",
      "3/3 [==============================] - 0s 13ms/step - loss: 1.9247 - accuracy: 0.4250 - val_loss: 1.8963 - val_accuracy: 0.3000\n",
      "Epoch 9/10\n",
      "3/3 [==============================] - 0s 12ms/step - loss: 1.8713 - accuracy: 0.3750 - val_loss: 1.8419 - val_accuracy: 0.3500\n",
      "Epoch 10/10\n",
      "3/3 [==============================] - 0s 15ms/step - loss: 1.8391 - accuracy: 0.4000 - val_loss: 1.7932 - val_accuracy: 0.3000\n",
      "1/1 [==============================] - 0s 19ms/step - loss: 1.7633 - accuracy: 0.5667\n",
      "{'name': 'sequential_1', 'layers': [{'class_name': 'InputLayer', 'config': {'batch_input_shape': (None, 10), 'dtype': 'float32', 'sparse': False, 'ragged': False, 'name': 'dense_3_input'}}, {'class_name': 'Dense', 'config': {'name': 'dense_3', 'trainable': True, 'batch_input_shape': (None, 10), 'dtype': 'float32', 'units': 32, 'activation': 'relu', 'use_bias': True, 'kernel_initializer': {'class_name': 'GlorotUniform', 'config': {'seed': None}}, 'bias_initializer': {'class_name': 'Zeros', 'config': {}}, 'kernel_regularizer': None, 'bias_regularizer': None, 'activity_regularizer': None, 'kernel_constraint': None, 'bias_constraint': None}}, {'class_name': 'Dropout', 'config': {'name': 'dropout_2', 'trainable': True, 'dtype': 'float32', 'rate': 0.5, 'noise_shape': None, 'seed': None}}, {'class_name': 'Dense', 'config': {'name': 'dense_4', 'trainable': True, 'dtype': 'float32', 'units': 128, 'activation': 'relu', 'use_bias': True, 'kernel_initializer': {'class_name': 'GlorotUniform', 'config': {'seed': None}}, 'bias_initializer': {'class_name': 'Zeros', 'config': {}}, 'kernel_regularizer': None, 'bias_regularizer': None, 'activity_regularizer': None, 'kernel_constraint': None, 'bias_constraint': None}}, {'class_name': 'Dropout', 'config': {'name': 'dropout_3', 'trainable': True, 'dtype': 'float32', 'rate': 0.5, 'noise_shape': None, 'seed': None}}, {'class_name': 'Dense', 'config': {'name': 'dense_5', 'trainable': True, 'dtype': 'float32', 'units': 10, 'activation': 'softmax', 'use_bias': True, 'kernel_initializer': {'class_name': 'GlorotUniform', 'config': {'seed': None}}, 'bias_initializer': {'class_name': 'Zeros', 'config': {}}, 'kernel_regularizer': None, 'bias_regularizer': None, 'activity_regularizer': None, 'kernel_constraint': None, 'bias_constraint': None}}]}\n"
     ]
    }
   ],
   "source": [
    "# Show parameters of model\n",
    "print(model.get_config())\n",
    "\n",
    "# add early stopping\n",
    "from tensorflow.keras.callbacks import EarlyStopping\n",
    "early_stopping_monitor = EarlyStopping(patience=3)\n",
    "\n",
    "# Train the model\n",
    "history = model.fit(X_train, y_train, epochs=10, validation_split=0.2, callbacks=[early_stopping_monitor])\n",
    "\n",
    "# Evaluate the model\n",
    "model.evaluate(X_test, y_test)\n",
    "\n",
    "print(model.get_config())"
   ]
  },
  {
   "cell_type": "code",
   "execution_count": 20,
   "metadata": {},
   "outputs": [
    {
     "name": "stdout",
     "output_type": "stream",
     "text": [
      "Model: \"sequential\"\n",
      "_________________________________________________________________\n",
      " Layer (type)                Output Shape              Param #   \n",
      "=================================================================\n",
      " dense (Dense)               (None, 128)               1408      \n",
      "                                                                 \n",
      " dropout (Dropout)           (None, 128)               0         \n",
      "                                                                 \n",
      " dense_1 (Dense)             (None, 128)               16512     \n",
      "                                                                 \n",
      " dropout_1 (Dropout)         (None, 128)               0         \n",
      "                                                                 \n",
      " dense_2 (Dense)             (None, 10)                1290      \n",
      "                                                                 \n",
      "=================================================================\n",
      "Total params: 19,210\n",
      "Trainable params: 19,210\n",
      "Non-trainable params: 0\n",
      "_________________________________________________________________\n",
      "None\n",
      "<keras.optimizers.optimizer_v2.adam.Adam object at 0x000002A21FB147C0>\n",
      "sparse_categorical_crossentropy\n",
      "0.001\n"
     ]
    }
   ],
   "source": [
    "\n",
    "\n",
    "# print all\n",
    "print(best_model.summary())\n",
    "print(best_model.optimizer)\n",
    "print(best_model.loss)\n",
    "# learning rate\n",
    "print(best_model.optimizer.get_config()['learning_rate'])"
   ]
  },
  {
   "cell_type": "code",
   "execution_count": 21,
   "metadata": {},
   "outputs": [
    {
     "name": "stdout",
     "output_type": "stream",
     "text": [
      "Search space summary\n",
      "Default search space size: 5\n",
      "units1 (Int)\n",
      "{'default': None, 'conditions': [], 'min_value': 32, 'max_value': 256, 'step': 96, 'sampling': 'linear'}\n",
      "dropout1 (Float)\n",
      "{'default': 0.0, 'conditions': [], 'min_value': 0.0, 'max_value': 0.5, 'step': 0.25, 'sampling': 'linear'}\n",
      "units2 (Int)\n",
      "{'default': None, 'conditions': [], 'min_value': 32, 'max_value': 256, 'step': 96, 'sampling': 'linear'}\n",
      "dropout2 (Float)\n",
      "{'default': 0.0, 'conditions': [], 'min_value': 0.0, 'max_value': 0.5, 'step': 0.25, 'sampling': 'linear'}\n",
      "optimizer (Choice)\n",
      "{'default': 'adam', 'conditions': [], 'values': ['adam', 'sgd'], 'ordered': False}\n"
     ]
    }
   ],
   "source": [
    "tuner.search_space_summary()"
   ]
  }
 ],
 "metadata": {
  "kernelspec": {
   "display_name": "DSapplications",
   "language": "python",
   "name": "python3"
  },
  "language_info": {
   "codemirror_mode": {
    "name": "ipython",
    "version": 3
   },
   "file_extension": ".py",
   "mimetype": "text/x-python",
   "name": "python",
   "nbconvert_exporter": "python",
   "pygments_lexer": "ipython3",
   "version": "3.9.18"
  }
 },
 "nbformat": 4,
 "nbformat_minor": 2
}
