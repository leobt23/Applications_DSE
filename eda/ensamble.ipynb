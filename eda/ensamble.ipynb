{
 "cells": [
  {
   "cell_type": "code",
   "execution_count": 61,
   "metadata": {},
   "outputs": [],
   "source": [
    "# Load all files from data_generated/test/outputs/ \n",
    "\n",
    "import os\n",
    "import sys\n",
    "import numpy as np\n",
    "import matplotlib.pyplot as plt\n",
    "import matplotlib.image as mpimg\n",
    "import matplotlib.cm as cm\n",
    "import matplotlib.colors as colors\n",
    "from matplotlib import rcParams\n",
    "from matplotlib import rc\n",
    "from matplotlib import rcParams\n",
    "from matplotlib import rc\n",
    "from matplotlib import rcParams\n",
    "\n",
    "\n",
    "# Load all files from data_generated/test/outputs/ to diferet arrays\n",
    "def load_data():\n",
    "    # Get all files from data_generated/test/outputs/\n",
    "    files = os.listdir(\"../archive/2_0.3smote_alldata/test/outputs/\")\n",
    "    files.sort()\n",
    "    # Load all files to diferent arrays names as the file name\n",
    "    for file in files:\n",
    "        if file == 'outputs_IsolationForest0.csv' or file == 'outputs_NN_probs0.csv' or file == 'outputs_OneClassSVM0.csv' or file == 'outputs_RandomForestClassifier0.csv' or file == 'outputs_SVC0.csv':\n",
    "            globals()[file] = np.loadtxt(\"../data_generated/test/outputs/\" + file, dtype=float)\n",
    "        else:\n",
    "            globals()[file] = np.loadtxt(\"../data_generated/test/outputs/\" + file)\n",
    "\n",
    "    return files\n",
    "\n",
    "# Save in individuals arrays the data from the files named Autoencoder, IsolationForest, NN, OneClassSVM, RandomForestClassifier, SVM, TrueOutput\n",
    "def save_data(files):\n",
    "    # Save in individuals arrays vars the data from the files named Autoencoder, IsolationForest, NN, OneClassSVM, RandomForestClassifier, SVM, TrueOutput\n",
    "    i = 0\n",
    "    for file in files:\n",
    "        print(file)\n",
    "        i+=1\n",
    "        if i == 1:\n",
    "            Autoencoder = globals()[file]\n",
    "        elif i == 2:\n",
    "            IsolationForest = globals()[file]\n",
    "        elif i == 3:\n",
    "            IsolationForest0 = globals()[file]\n",
    "        elif i == 4:\n",
    "            NN = globals()[file]\n",
    "        elif i == 5:\n",
    "            NN_probs0 = globals()[file]\n",
    "        elif i == 6:\n",
    "            OneClassSVM = globals()[file]\n",
    "        elif i == 7:\n",
    "            OneClassSVM0 = globals()[file]\n",
    "        elif i == 8:\n",
    "            RandomForestClassifier = globals()[file]\n",
    "        elif i == 9:\n",
    "            RandomForestClassifier0 = globals()[file]\n",
    "        elif i == 10:\n",
    "            SVM = globals()[file]\n",
    "        elif i == 11:\n",
    "            SVM0 = globals()[file]\n",
    "        elif i == 12:\n",
    "            TrueOutput = globals()[file]\n",
    "\n",
    "    return Autoencoder, IsolationForest, IsolationForest0, NN, NN_probs0, OneClassSVM, OneClassSVM0, RandomForestClassifier, RandomForestClassifier0, SVM, SVM0, TrueOutput\n",
    "\n",
    " \n",
    "    "
   ]
  },
  {
   "cell_type": "code",
   "execution_count": 62,
   "metadata": {},
   "outputs": [
    {
     "name": "stdout",
     "output_type": "stream",
     "text": [
      "_outputs_Autoencoder.csv\n",
      "_outputs_IsolationForest.csv\n",
      "_outputs_IsolationForest0.csv\n",
      "_outputs_NN.csv\n",
      "_outputs_NN_probs0.csv\n",
      "_outputs_OneClassSVM.csv\n",
      "_outputs_OneClassSVM0.csv\n",
      "_outputs_RandomForestClassifier.csv\n",
      "_outputs_RandomForestClassifier0.csv\n",
      "_outputs_SVC.csv\n",
      "_outputs_SVC0.csv\n",
      "_outputs_True_y.csv\n",
      "_outputs_name0.csv\n"
     ]
    }
   ],
   "source": [
    "files = load_data()\n",
    "Autoencoder, IsolationForest, IsolationForest0, NN, NN_probs0, OneClassSVM, OneClassSVM0, RandomForestClassifier, RandomForestClassifier0, SVM, SVM0, TrueOutput  = save_data(files)"
   ]
  },
  {
   "cell_type": "code",
   "execution_count": 63,
   "metadata": {},
   "outputs": [
    {
     "name": "stdout",
     "output_type": "stream",
     "text": [
      "Autoencoder\n",
      "0.031943773273828135\n",
      "IsolationForest\n",
      "0.03553256203985332\n",
      "NN\n",
      "0.0037593450638164815\n",
      "OneClassSVM\n",
      "0.5981693624037068\n",
      "RandomForestClassifier\n",
      "0.0015065806304897808\n",
      "SVM\n",
      "0.0034964041047215668\n",
      "TrueOutput\n",
      "0.0014923676056738395\n"
     ]
    }
   ],
   "source": [
    "# print percentage of anomalies detected\n",
    "print(\"Autoencoder\")\n",
    "print(np.sum(Autoencoder)/len(Autoencoder))\n",
    "print(\"IsolationForest\")\n",
    "print(np.sum(IsolationForest)/len(IsolationForest))\n",
    "print(\"NN\")\n",
    "print(np.sum(NN)/len(NN))\n",
    "print(\"OneClassSVM\")\n",
    "print(np.sum(OneClassSVM)/len(OneClassSVM))\n",
    "print(\"RandomForestClassifier\")\n",
    "print(np.sum(RandomForestClassifier)/len(RandomForestClassifier))\n",
    "print(\"SVM\")\n",
    "print(np.sum(SVM)/len(SVM))\n",
    "print(\"TrueOutput\")\n",
    "print(np.sum(TrueOutput)/len(TrueOutput))\n"
   ]
  },
  {
   "cell_type": "code",
   "execution_count": 64,
   "metadata": {},
   "outputs": [],
   "source": [
    "# pass all the data to pandas dataframe as int\n",
    "import pandas as pd\n",
    "\n",
    "df_autoencoder = pd.DataFrame(Autoencoder.astype(int))\n",
    "df_isolationforest = pd.DataFrame(IsolationForest.astype(int))\n",
    "df_nn = pd.DataFrame(NN.astype(float))\n",
    "df_oneclasssvm = pd.DataFrame(OneClassSVM.astype(int))\n",
    "df_randomforestclassifier = pd.DataFrame(RandomForestClassifier.astype(int))\n",
    "df_svm = pd.DataFrame(SVM.astype(int))\n",
    "df_trueoutput = pd.DataFrame(TrueOutput.astype(int))\n",
    "df_isolationforest0 = pd.DataFrame(IsolationForest0.astype(float))\n",
    "df_nn_probs0 = pd.DataFrame(NN_probs0.astype(float))\n",
    "df_oneclasssvm0 = pd.DataFrame(OneClassSVM0.astype(float))\n",
    "df_randomforestclassifier0 = pd.DataFrame(RandomForestClassifier0.astype(float))\n",
    "df_svm0 = pd.DataFrame(SVM0.astype(float))\n",
    "\n"
   ]
  },
  {
   "cell_type": "code",
   "execution_count": 65,
   "metadata": {},
   "outputs": [],
   "source": [
    "import numpy as np\n",
    "import pandas as pd\n",
    "from sklearn.preprocessing import MinMaxScaler\n",
    "\n",
    "scaler = MinMaxScaler()\n",
    "df_isolationforest0[0] = scaler.fit_transform(df_isolationforest0[[0]])\n",
    "\n",
    "# Combine the scores by averaging them\n",
    "# Here we assume all dataframes have the same length and corresponding indices\n",
    "# \n",
    "# column of \n",
    "# give more weight to the df_svm0. Do \n",
    "ensemble_scores = 0.20*df_isolationforest0[0] + 0.20*df_nn_probs0[0] + 0.5*df_svm0[0] + 0.10*df_autoencoder[0]\n",
    "\n",
    "# Decide on a threshold to binarize the scores\n",
    "# This threshold can be determined by cross-validation, domain knowledge, or by looking at the distribution of ensemble scores\n",
    "threshold = 0.50  # Example threshold\n",
    "ensemble_output = (ensemble_scores >= threshold).astype(int)"
   ]
  },
  {
   "cell_type": "code",
   "execution_count": 66,
   "metadata": {},
   "outputs": [
    {
     "data": {
      "text/plain": [
       "0.34704112337011034"
      ]
     },
     "execution_count": 66,
     "metadata": {},
     "output_type": "execute_result"
    },
    {
     "data": {
      "image/png": "[encoded data removed]",
      "text/plain": [
       "<Figure size 640x480 with 2 Axes>"
      ]
     },
     "metadata": {},
     "output_type": "display_data"
    }
   ],
   "source": [
    "# confusion matrix\n",
    "from sklearn.metrics import confusion_matrix\n",
    "\n",
    "confusion_matrix(df_trueoutput, ensemble_output)\n",
    "\n",
    "# plot confusion matrix\n",
    "import seaborn as sns\n",
    "\n",
    "sns.heatmap(confusion_matrix(df_trueoutput, ensemble_output), annot=True, fmt='g')\n",
    "\n",
    "# f1 score\n",
    "from sklearn.metrics import f1_score\n",
    "\n",
    "f1_score(df_trueoutput, ensemble_output)"
   ]
  },
  {
   "cell_type": "code",
   "execution_count": 67,
   "metadata": {},
   "outputs": [
    {
     "data": {
      "image/png": "[encoded data removed]",
      "text/plain": [
       "<Figure size 640x480 with 1 Axes>"
      ]
     },
     "metadata": {},
     "output_type": "display_data"
    }
   ],
   "source": [
    "# do auc curve\n",
    "from sklearn.metrics import roc_auc_score\n",
    "\n",
    "roc_auc_score(df_trueoutput, ensemble_output)\n",
    "\n",
    "# plot\n",
    "from sklearn.metrics import roc_curve\n",
    "\n",
    "fpr, tpr, thresholds = roc_curve(df_trueoutput, ensemble_scores)\n",
    "plt.plot(fpr, tpr)\n",
    "plt.xlabel('False Positive Rate')\n",
    "plt.ylabel('True Positive Rate')\n",
    "plt.title('ROC Curve')\n",
    "plt.show()\n",
    "\n"
   ]
  },
  {
   "cell_type": "code",
   "execution_count": 68,
   "metadata": {},
   "outputs": [
    {
     "name": "stdout",
     "output_type": "stream",
     "text": [
      "173\n"
     ]
    }
   ],
   "source": [
    "# get indexes of anomalies\n",
    "indexes = []\n",
    "for i in range(len(ensemble_output)):\n",
    "    if ensemble_output[i] == 1:\n",
    "        indexes.append(i)\n",
    "\n",
    "# get indexes of anomalies in the true output\n",
    "indexes_true = []\n",
    "for i in range(len(df_trueoutput)):\n",
    "    if df_trueoutput[0][i] == 1:\n",
    "        indexes_true.append(i)\n",
    "\n",
    "compare = []\n",
    "for i in indexes:\n",
    "    if i in indexes_true:\n",
    "        compare.append(i)\n",
    "\n",
    "print(len(compare))"
   ]
  },
  {
   "cell_type": "code",
   "execution_count": 69,
   "metadata": {},
   "outputs": [
    {
     "data": {
      "text/plain": [
       "0.32427366447985007"
      ]
     },
     "execution_count": 69,
     "metadata": {},
     "output_type": "execute_result"
    },
    {
     "data": {
      "image/png": "[encoded data removed]",
      "text/plain": [
       "<Figure size 640x480 with 2 Axes>"
      ]
     },
     "metadata": {},
     "output_type": "display_data"
    }
   ],
   "source": [
    "ensemble_scores = 0.30*df_isolationforest0[0] + 0.20*df_nn_probs0[0] + 0.5*df_svm0[0] \n",
    "\n",
    "# Decide on a threshold to binarize the scores\n",
    "# This threshold can be determined by cross-validation, domain knowledge, or by looking at the distribution of ensemble scores\n",
    "threshold = 0.50  # Example threshold\n",
    "ensemble_output = (ensemble_scores >= threshold).astype(int)\n",
    "\n",
    "from sklearn.metrics import confusion_matrix\n",
    "\n",
    "confusion_matrix(df_trueoutput, ensemble_output)\n",
    "\n",
    "# plot confusion matrix\n",
    "import seaborn as sns\n",
    "\n",
    "sns.heatmap(confusion_matrix(df_trueoutput, ensemble_output), annot=True, fmt='g')\n",
    "\n",
    "# f1 score\n",
    "from sklearn.metrics import f1_score\n",
    "\n",
    "f1_score(df_trueoutput, ensemble_output)"
   ]
  },
  {
   "cell_type": "code",
   "execution_count": 70,
   "metadata": {},
   "outputs": [
    {
     "name": "stdout",
     "output_type": "stream",
     "text": [
      "173\n"
     ]
    }
   ],
   "source": [
    "# get indexes of anomalies\n",
    "indexes = []\n",
    "for i in range(len(ensemble_output)):\n",
    "    if ensemble_output[i] == 1:\n",
    "        indexes.append(i)\n",
    "\n",
    "# get indexes of anomalies in the true output\n",
    "indexes_true = []\n",
    "for i in range(len(df_trueoutput)):\n",
    "    if df_trueoutput[0][i] == 1:\n",
    "        indexes_true.append(i)\n",
    "\n",
    "compare = []\n",
    "for i in indexes:\n",
    "    if i in indexes_true:\n",
    "        compare.append(i)\n",
    "\n",
    "print(len(compare))"
   ]
  },
  {
   "cell_type": "code",
   "execution_count": 71,
   "metadata": {},
   "outputs": [
    {
     "name": "stdout",
     "output_type": "stream",
     "text": [
      "210\n"
     ]
    }
   ],
   "source": [
    "#Count 1 in the true output\n",
    "count = 0\n",
    "for i in range(len(df_trueoutput)):\n",
    "    if df_trueoutput[0][i] == 1:\n",
    "        count+=1\n",
    "\n",
    "print(count)"
   ]
  },
  {
   "cell_type": "code",
   "execution_count": 72,
   "metadata": {},
   "outputs": [
    {
     "data": {
      "image/png": "[encoded data removed]",
      "text/plain": [
       "<Figure size 640x480 with 1 Axes>"
      ]
     },
     "metadata": {},
     "output_type": "display_data"
    }
   ],
   "source": [
    "# Do auc curve\n",
    "from sklearn.metrics import roc_auc_score\n",
    "\n",
    "roc_auc_score(df_trueoutput, ensemble_output)\n",
    "\n",
    "plt.xlabel('False Positive Rate')\n",
    "plt.ylabel('True Positive Rate')\n",
    "\n",
    "\n",
    "# do roc curve \n",
    "\n",
    "from sklearn.metrics import roc_curve\n",
    "\n",
    "fpr, tpr, thresholds = roc_curve(df_trueoutput, ensemble_scores)\n",
    "plt.plot(fpr, tpr)\n",
    "plt.xlabel('False Positive Rate')\n",
    "plt.ylabel('True Positive Rate')\n",
    "plt.title('ROC Curve')\n",
    "plt.show()\n",
    "\n",
    "\n",
    "    "
   ]
  },
  {
   "cell_type": "code",
   "execution_count": null,
   "metadata": {},
   "outputs": [],
   "source": []
  }
 ],
 "metadata": {
  "kernelspec": {
   "display_name": "DSapplications",
   "language": "python",
   "name": "python3"
  },
  "language_info": {
   "codemirror_mode": {
    "name": "ipython",
    "version": 3
   },
   "file_extension": ".py",
   "mimetype": "text/x-python",
   "name": "python",
   "nbconvert_exporter": "python",
   "pygments_lexer": "ipython3",
   "version": "3.9.18"
  }
 },
 "nbformat": 4,
 "nbformat_minor": 2
}
