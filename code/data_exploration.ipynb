{
 "cells": [
  {
   "cell_type": "markdown",
   "metadata": {},
   "source": [
    "# Data Exploration"
   ]
  },
  {
   "cell_type": "markdown",
   "metadata": {},
   "source": [
    "## Understanding our data"
   ]
  },
  {
   "cell_type": "markdown",
   "metadata": {},
   "source": [
    "#### Import and load"
   ]
  },
  {
   "cell_type": "code",
   "execution_count": 90,
   "metadata": {},
   "outputs": [],
   "source": [
    "# Libraries\n",
    "import pandas as pd"
   ]
  },
  {
   "cell_type": "code",
   "execution_count": 91,
   "metadata": {},
   "outputs": [],
   "source": [
    "# Load dataset\n",
    "df = pd.read_csv('creditcard.csv')\n",
    "df_modified = df.copy()"
   ]
  },
  {
   "cell_type": "markdown",
   "metadata": {},
   "source": [
    "#### Basic info"
   ]
  },
  {
   "cell_type": "code",
   "execution_count": 92,
   "metadata": {},
   "outputs": [
    {
     "name": "stdout",
     "output_type": "stream",
     "text": [
      "(284807, 31)\n",
      "   Time        V1        V2        V3        V4        V5        V6        V7  \\\n",
      "0   0.0 -1.359807 -0.072781  2.536347  1.378155 -0.338321  0.462388  0.239599   \n",
      "1   0.0  1.191857  0.266151  0.166480  0.448154  0.060018 -0.082361 -0.078803   \n",
      "2   1.0 -1.358354 -1.340163  1.773209  0.379780 -0.503198  1.800499  0.791461   \n",
      "3   1.0 -0.966272 -0.185226  1.792993 -0.863291 -0.010309  1.247203  0.237609   \n",
      "4   2.0 -1.158233  0.877737  1.548718  0.403034 -0.407193  0.095921  0.592941   \n",
      "\n",
      "         V8        V9  ...       V21       V22       V23       V24       V25  \\\n",
      "0  0.098698  0.363787  ... -0.018307  0.277838 -0.110474  0.066928  0.128539   \n",
      "1  0.085102 -0.255425  ... -0.225775 -0.638672  0.101288 -0.339846  0.167170   \n",
      "2  0.247676 -1.514654  ...  0.247998  0.771679  0.909412 -0.689281 -0.327642   \n",
      "3  0.377436 -1.387024  ... -0.108300  0.005274 -0.190321 -1.175575  0.647376   \n",
      "4 -0.270533  0.817739  ... -0.009431  0.798278 -0.137458  0.141267 -0.206010   \n",
      "\n",
      "        V26       V27       V28  Amount  Class  \n",
      "0 -0.189115  0.133558 -0.021053  149.62      0  \n",
      "1  0.125895 -0.008983  0.014724    2.69      0  \n",
      "2 -0.139097 -0.055353 -0.059752  378.66      0  \n",
      "3 -0.221929  0.062723  0.061458  123.50      0  \n",
      "4  0.502292  0.219422  0.215153   69.99      0  \n",
      "\n",
      "[5 rows x 31 columns]\n",
      "                Time            V1            V2            V3            V4  \\\n",
      "count  284807.000000  2.848070e+05  2.848070e+05  2.848070e+05  2.848070e+05   \n",
      "mean    94813.859575  3.918649e-15  5.682686e-16 -8.761736e-15  2.811118e-15   \n",
      "std     47488.145955  1.958696e+00  1.651309e+00  1.516255e+00  1.415869e+00   \n",
      "min         0.000000 -5.640751e+01 -7.271573e+01 -4.832559e+01 -5.683171e+00   \n",
      "25%     54201.500000 -9.203734e-01 -5.985499e-01 -8.903648e-01 -8.486401e-01   \n",
      "50%     84692.000000  1.810880e-02  6.548556e-02  1.798463e-01 -1.984653e-02   \n",
      "75%    139320.500000  1.315642e+00  8.037239e-01  1.027196e+00  7.433413e-01   \n",
      "max    172792.000000  2.454930e+00  2.205773e+01  9.382558e+00  1.687534e+01   \n",
      "\n",
      "                 V5            V6            V7            V8            V9  \\\n",
      "count  2.848070e+05  2.848070e+05  2.848070e+05  2.848070e+05  2.848070e+05   \n",
      "mean  -1.552103e-15  2.040130e-15 -1.698953e-15 -1.893285e-16 -3.147640e-15   \n",
      "std    1.380247e+00  1.332271e+00  1.237094e+00  1.194353e+00  1.098632e+00   \n",
      "min   -1.137433e+02 -2.616051e+01 -4.355724e+01 -7.321672e+01 -1.343407e+01   \n",
      "25%   -6.915971e-01 -7.682956e-01 -5.540759e-01 -2.086297e-01 -6.430976e-01   \n",
      "50%   -5.433583e-02 -2.741871e-01  4.010308e-02  2.235804e-02 -5.142873e-02   \n",
      "75%    6.119264e-01  3.985649e-01  5.704361e-01  3.273459e-01  5.971390e-01   \n",
      "max    3.480167e+01  7.330163e+01  1.205895e+02  2.000721e+01  1.559499e+01   \n",
      "\n",
      "       ...           V21           V22           V23           V24  \\\n",
      "count  ...  2.848070e+05  2.848070e+05  2.848070e+05  2.848070e+05   \n",
      "mean   ...  1.473120e-16  8.042109e-16  5.282512e-16  4.456271e-15   \n",
      "std    ...  7.345240e-01  7.257016e-01  6.244603e-01  6.056471e-01   \n",
      "min    ... -3.483038e+01 -1.093314e+01 -4.480774e+01 -2.836627e+00   \n",
      "25%    ... -2.283949e-01 -5.423504e-01 -1.618463e-01 -3.545861e-01   \n",
      "50%    ... -2.945017e-02  6.781943e-03 -1.119293e-02  4.097606e-02   \n",
      "75%    ...  1.863772e-01  5.285536e-01  1.476421e-01  4.395266e-01   \n",
      "max    ...  2.720284e+01  1.050309e+01  2.252841e+01  4.584549e+00   \n",
      "\n",
      "                V25           V26           V27           V28         Amount  \\\n",
      "count  2.848070e+05  2.848070e+05  2.848070e+05  2.848070e+05  284807.000000   \n",
      "mean   1.426896e-15  1.701640e-15 -3.662252e-16 -1.217809e-16      88.349619   \n",
      "std    5.212781e-01  4.822270e-01  4.036325e-01  3.300833e-01     250.120109   \n",
      "min   -1.029540e+01 -2.604551e+00 -2.256568e+01 -1.543008e+01       0.000000   \n",
      "25%   -3.171451e-01 -3.269839e-01 -7.083953e-02 -5.295979e-02       5.600000   \n",
      "50%    1.659350e-02 -5.213911e-02  1.342146e-03  1.124383e-02      22.000000   \n",
      "75%    3.507156e-01  2.409522e-01  9.104512e-02  7.827995e-02      77.165000   \n",
      "max    7.519589e+00  3.517346e+00  3.161220e+01  3.384781e+01   25691.160000   \n",
      "\n",
      "               Class  \n",
      "count  284807.000000  \n",
      "mean        0.001727  \n",
      "std         0.041527  \n",
      "min         0.000000  \n",
      "25%         0.000000  \n",
      "50%         0.000000  \n",
      "75%         0.000000  \n",
      "max         1.000000  \n",
      "\n",
      "[8 rows x 31 columns]\n",
      "<class 'pandas.core.frame.DataFrame'>\n",
      "RangeIndex: 284807 entries, 0 to 284806\n",
      "Data columns (total 31 columns):\n",
      " #   Column  Non-Null Count   Dtype  \n",
      "---  ------  --------------   -----  \n",
      " 0   Time    284807 non-null  float64\n",
      " 1   V1      284807 non-null  float64\n",
      " 2   V2      284807 non-null  float64\n",
      " 3   V3      284807 non-null  float64\n",
      " 4   V4      284807 non-null  float64\n",
      " 5   V5      284807 non-null  float64\n",
      " 6   V6      284807 non-null  float64\n",
      " 7   V7      284807 non-null  float64\n",
      " 8   V8      284807 non-null  float64\n",
      " 9   V9      284807 non-null  float64\n",
      " 10  V10     284807 non-null  float64\n",
      " 11  V11     284807 non-null  float64\n",
      " 12  V12     284807 non-null  float64\n",
      " 13  V13     284807 non-null  float64\n",
      " 14  V14     284807 non-null  float64\n",
      " 15  V15     284807 non-null  float64\n",
      " 16  V16     284807 non-null  float64\n",
      " 17  V17     284807 non-null  float64\n",
      " 18  V18     284807 non-null  float64\n",
      " 19  V19     284807 non-null  float64\n",
      " 20  V20     284807 non-null  float64\n",
      " 21  V21     284807 non-null  float64\n",
      " 22  V22     284807 non-null  float64\n",
      " 23  V23     284807 non-null  float64\n",
      " 24  V24     284807 non-null  float64\n",
      " 25  V25     284807 non-null  float64\n",
      " 26  V26     284807 non-null  float64\n",
      " 27  V27     284807 non-null  float64\n",
      " 28  V28     284807 non-null  float64\n",
      " 29  Amount  284807 non-null  float64\n",
      " 30  Class   284807 non-null  int64  \n",
      "dtypes: float64(30), int64(1)\n",
      "memory usage: 67.4 MB\n",
      "None\n",
      "Time      0\n",
      "V1        0\n",
      "V2        0\n",
      "V3        0\n",
      "V4        0\n",
      "V5        0\n",
      "V6        0\n",
      "V7        0\n",
      "V8        0\n",
      "V9        0\n",
      "V10       0\n",
      "V11       0\n",
      "V12       0\n",
      "V13       0\n",
      "V14       0\n",
      "V15       0\n",
      "V16       0\n",
      "V17       0\n",
      "V18       0\n",
      "V19       0\n",
      "V20       0\n",
      "V21       0\n",
      "V22       0\n",
      "V23       0\n",
      "V24       0\n",
      "V25       0\n",
      "V26       0\n",
      "V27       0\n",
      "V28       0\n",
      "Amount    0\n",
      "Class     0\n",
      "dtype: int64\n",
      "0    284315\n",
      "1       492\n",
      "Name: Class, dtype: int64\n",
      "Index(['Time', 'V1', 'V2', 'V3', 'V4', 'V5', 'V6', 'V7', 'V8', 'V9', 'V10',\n",
      "       'V11', 'V12', 'V13', 'V14', 'V15', 'V16', 'V17', 'V18', 'V19', 'V20',\n",
      "       'V21', 'V22', 'V23', 'V24', 'V25', 'V26', 'V27', 'V28', 'Amount',\n",
      "       'Class'],\n",
      "      dtype='object')\n"
     ]
    }
   ],
   "source": [
    "# Basic info\n",
    "print(df.shape)\n",
    "print(df.head(5))\n",
    "print(df.describe())\n",
    "print(df.info())\n",
    "print(df.isnull().sum())\n",
    "print(df['Class'].value_counts())\n",
    "print(df.columns)\n"
   ]
  },
  {
   "cell_type": "markdown",
   "metadata": {},
   "source": [
    "#### Duplicates"
   ]
  },
  {
   "cell_type": "code",
   "execution_count": 93,
   "metadata": {},
   "outputs": [
    {
     "name": "stdout",
     "output_type": "stream",
     "text": [
      "(1854, 31)\n"
     ]
    },
    {
     "data": {
      "text/html": [
       "<div>\n",
       "<style scoped>\n",
       "    .dataframe tbody tr th:only-of-type {\n",
       "        vertical-align: middle;\n",
       "    }\n",
       "\n",
       "    .dataframe tbody tr th {\n",
       "        vertical-align: top;\n",
       "    }\n",
       "\n",
       "    .dataframe thead th {\n",
       "        text-align: right;\n",
       "    }\n",
       "</style>\n",
       "<table border=\"1\" class=\"dataframe\">\n",
       "  <thead>\n",
       "    <tr style=\"text-align: right;\">\n",
       "      <th></th>\n",
       "      <th>Time</th>\n",
       "      <th>V1</th>\n",
       "      <th>V2</th>\n",
       "      <th>V3</th>\n",
       "      <th>V4</th>\n",
       "      <th>V5</th>\n",
       "      <th>V6</th>\n",
       "      <th>V7</th>\n",
       "      <th>V8</th>\n",
       "      <th>V9</th>\n",
       "      <th>...</th>\n",
       "      <th>V21</th>\n",
       "      <th>V22</th>\n",
       "      <th>V23</th>\n",
       "      <th>V24</th>\n",
       "      <th>V25</th>\n",
       "      <th>V26</th>\n",
       "      <th>V27</th>\n",
       "      <th>V28</th>\n",
       "      <th>Amount</th>\n",
       "      <th>Class</th>\n",
       "    </tr>\n",
       "  </thead>\n",
       "  <tbody>\n",
       "    <tr>\n",
       "      <th>32</th>\n",
       "      <td>26.0</td>\n",
       "      <td>-0.529912</td>\n",
       "      <td>0.873892</td>\n",
       "      <td>1.347247</td>\n",
       "      <td>0.145457</td>\n",
       "      <td>0.414209</td>\n",
       "      <td>0.100223</td>\n",
       "      <td>0.711206</td>\n",
       "      <td>0.176066</td>\n",
       "      <td>-0.286717</td>\n",
       "      <td>...</td>\n",
       "      <td>0.046949</td>\n",
       "      <td>0.208105</td>\n",
       "      <td>-0.185548</td>\n",
       "      <td>0.001031</td>\n",
       "      <td>0.098816</td>\n",
       "      <td>-0.552904</td>\n",
       "      <td>-0.073288</td>\n",
       "      <td>0.023307</td>\n",
       "      <td>6.14</td>\n",
       "      <td>0</td>\n",
       "    </tr>\n",
       "    <tr>\n",
       "      <th>33</th>\n",
       "      <td>26.0</td>\n",
       "      <td>-0.529912</td>\n",
       "      <td>0.873892</td>\n",
       "      <td>1.347247</td>\n",
       "      <td>0.145457</td>\n",
       "      <td>0.414209</td>\n",
       "      <td>0.100223</td>\n",
       "      <td>0.711206</td>\n",
       "      <td>0.176066</td>\n",
       "      <td>-0.286717</td>\n",
       "      <td>...</td>\n",
       "      <td>0.046949</td>\n",
       "      <td>0.208105</td>\n",
       "      <td>-0.185548</td>\n",
       "      <td>0.001031</td>\n",
       "      <td>0.098816</td>\n",
       "      <td>-0.552904</td>\n",
       "      <td>-0.073288</td>\n",
       "      <td>0.023307</td>\n",
       "      <td>6.14</td>\n",
       "      <td>0</td>\n",
       "    </tr>\n",
       "    <tr>\n",
       "      <th>34</th>\n",
       "      <td>26.0</td>\n",
       "      <td>-0.535388</td>\n",
       "      <td>0.865268</td>\n",
       "      <td>1.351076</td>\n",
       "      <td>0.147575</td>\n",
       "      <td>0.433680</td>\n",
       "      <td>0.086983</td>\n",
       "      <td>0.693039</td>\n",
       "      <td>0.179742</td>\n",
       "      <td>-0.285642</td>\n",
       "      <td>...</td>\n",
       "      <td>0.049526</td>\n",
       "      <td>0.206537</td>\n",
       "      <td>-0.187108</td>\n",
       "      <td>0.000753</td>\n",
       "      <td>0.098117</td>\n",
       "      <td>-0.553471</td>\n",
       "      <td>-0.078306</td>\n",
       "      <td>0.025427</td>\n",
       "      <td>1.77</td>\n",
       "      <td>0</td>\n",
       "    </tr>\n",
       "    <tr>\n",
       "      <th>35</th>\n",
       "      <td>26.0</td>\n",
       "      <td>-0.535388</td>\n",
       "      <td>0.865268</td>\n",
       "      <td>1.351076</td>\n",
       "      <td>0.147575</td>\n",
       "      <td>0.433680</td>\n",
       "      <td>0.086983</td>\n",
       "      <td>0.693039</td>\n",
       "      <td>0.179742</td>\n",
       "      <td>-0.285642</td>\n",
       "      <td>...</td>\n",
       "      <td>0.049526</td>\n",
       "      <td>0.206537</td>\n",
       "      <td>-0.187108</td>\n",
       "      <td>0.000753</td>\n",
       "      <td>0.098117</td>\n",
       "      <td>-0.553471</td>\n",
       "      <td>-0.078306</td>\n",
       "      <td>0.025427</td>\n",
       "      <td>1.77</td>\n",
       "      <td>0</td>\n",
       "    </tr>\n",
       "  </tbody>\n",
       "</table>\n",
       "<p>4 rows × 31 columns</p>\n",
       "</div>"
      ],
      "text/plain": [
       "    Time        V1        V2        V3        V4        V5        V6  \\\n",
       "32  26.0 -0.529912  0.873892  1.347247  0.145457  0.414209  0.100223   \n",
       "33  26.0 -0.529912  0.873892  1.347247  0.145457  0.414209  0.100223   \n",
       "34  26.0 -0.535388  0.865268  1.351076  0.147575  0.433680  0.086983   \n",
       "35  26.0 -0.535388  0.865268  1.351076  0.147575  0.433680  0.086983   \n",
       "\n",
       "          V7        V8        V9  ...       V21       V22       V23       V24  \\\n",
       "32  0.711206  0.176066 -0.286717  ...  0.046949  0.208105 -0.185548  0.001031   \n",
       "33  0.711206  0.176066 -0.286717  ...  0.046949  0.208105 -0.185548  0.001031   \n",
       "34  0.693039  0.179742 -0.285642  ...  0.049526  0.206537 -0.187108  0.000753   \n",
       "35  0.693039  0.179742 -0.285642  ...  0.049526  0.206537 -0.187108  0.000753   \n",
       "\n",
       "         V25       V26       V27       V28  Amount  Class  \n",
       "32  0.098816 -0.552904 -0.073288  0.023307    6.14      0  \n",
       "33  0.098816 -0.552904 -0.073288  0.023307    6.14      0  \n",
       "34  0.098117 -0.553471 -0.078306  0.025427    1.77      0  \n",
       "35  0.098117 -0.553471 -0.078306  0.025427    1.77      0  \n",
       "\n",
       "[4 rows x 31 columns]"
      ]
     },
     "execution_count": 93,
     "metadata": {},
     "output_type": "execute_result"
    }
   ],
   "source": [
    "# Save both observations duplicated of the dataset\n",
    "df_duplicated = df[df.duplicated(keep=False)]\n",
    "print(df_duplicated.shape)\n",
    "\n",
    "df_duplicated.head(4)"
   ]
  },
  {
   "cell_type": "code",
   "execution_count": 94,
   "metadata": {},
   "outputs": [],
   "source": [
    "# Inplace will modify the dataframe and not creating another one\n",
    "def del_duplicated(df):\n",
    "    df.drop_duplicates(inplace=True)\n",
    "    return df"
   ]
  },
  {
   "cell_type": "code",
   "execution_count": 95,
   "metadata": {},
   "outputs": [],
   "source": [
    "df_modified = del_duplicated(df_modified)"
   ]
  },
  {
   "cell_type": "markdown",
   "metadata": {},
   "source": [
    "#### Visualization of distributions"
   ]
  },
  {
   "cell_type": "code",
   "execution_count": 96,
   "metadata": {},
   "outputs": [
    {
     "data": {
      "image/png": "[encoded data removed]",
      "text/plain": [
       "<Figure size 1440x1440 with 36 Axes>"
      ]
     },
     "metadata": {
      "needs_background": "light"
     },
     "output_type": "display_data"
    }
   ],
   "source": [
    "# Data Visualization\n",
    "import matplotlib.pyplot as plt\n",
    "import seaborn as sns\n",
    "\n",
    "# Plot of histogram\n",
    "# x: features values\n",
    "# y: frequency \n",
    "df_modified.hist(figsize=(20,20), bins=50, alpha=0.7)\n",
    "plt.show()"
   ]
  },
  {
   "cell_type": "code",
   "execution_count": 97,
   "metadata": {},
   "outputs": [
    {
     "name": "stdout",
     "output_type": "stream",
     "text": [
      "0.0016698852262818046\n",
      "Fraud Cases: 473\n",
      "Valid Cases: 283253\n"
     ]
    }
   ],
   "source": [
    "# Determine number of fraud cases in dataset\n",
    "\n",
    "Fraud = df_modified[df_modified['Class'] == 1]\n",
    "Valid = df_modified[df_modified['Class'] == 0]\n",
    "outlier_fraction = len(Fraud) / float(len(Valid))\n",
    "print(outlier_fraction)\n",
    "print('Fraud Cases: {}'.format(len(Fraud)))\n",
    "print('Valid Cases: {}'.format(len(Valid)))\n"
   ]
  },
  {
   "cell_type": "markdown",
   "metadata": {},
   "source": [
    "#### Missing and Nan values"
   ]
  },
  {
   "cell_type": "code",
   "execution_count": 98,
   "metadata": {},
   "outputs": [
    {
     "name": "stdout",
     "output_type": "stream",
     "text": [
      "0\n",
      "0\n"
     ]
    }
   ],
   "source": [
    "# Missing values\n",
    "print(sum(df_modified.isnull().sum()))\n",
    "\n",
    "# NaN values\n",
    "print(sum(df_modified.isna().sum()))"
   ]
  },
  {
   "cell_type": "markdown",
   "metadata": {},
   "source": [
    "#### Class balance visualization"
   ]
  },
  {
   "cell_type": "code",
   "execution_count": 99,
   "metadata": {},
   "outputs": [
    {
     "data": {
      "image/png": "[encoded data removed]",
      "text/plain": [
       "<Figure size 432x288 with 1 Axes>"
      ]
     },
     "metadata": {
      "needs_background": "light"
     },
     "output_type": "display_data"
    }
   ],
   "source": [
    "# Visualizing the class distribution with percentage on top of the bars\n",
    "\n",
    "count_classes = pd.value_counts(df_modified['Class'], sort=True)\n",
    "count_classes.plot(kind='bar', rot=0)\n",
    "plt.title('Class Distributions \\n (0: No Fraud || 1: Fraud)', fontsize=14)\n",
    "plt.xticks(range(2))\n",
    "plt.xlabel('Class')\n",
    "plt.ylabel('Frequency')\n",
    "\n",
    "for index, value in enumerate(count_classes):\n",
    "    plt.text(index, value, str(round((value/len(df_modified['Class']))*100, 2))+'%')\n",
    "plt.show()\n"
   ]
  },
  {
   "cell_type": "markdown",
   "metadata": {},
   "source": [
    "#### Basic info of transactions"
   ]
  },
  {
   "cell_type": "code",
   "execution_count": 161,
   "metadata": {},
   "outputs": [
    {
     "name": "stdout",
     "output_type": "stream",
     "text": [
      "count     473.000000\n",
      "mean      123.871860\n",
      "std       260.211041\n",
      "min         0.000000\n",
      "25%         1.000000\n",
      "50%         9.820000\n",
      "75%       105.890000\n",
      "max      2125.870000\n",
      "Name: Amount, dtype: float64\n",
      "count    283253.000000\n",
      "mean         88.413575\n",
      "std         250.379023\n",
      "min           0.000000\n",
      "25%           5.670000\n",
      "50%          22.000000\n",
      "75%          77.460000\n",
      "max       25691.160000\n",
      "Name: Amount, dtype: float64\n"
     ]
    },
    {
     "data": {
      "image/png": "[encoded data removed]",
      "text/plain": [
       "<Figure size 1296x432 with 2 Axes>"
      ]
     },
     "metadata": {
      "needs_background": "light"
     },
     "output_type": "display_data"
    }
   ],
   "source": [
    "# mean amount of money per transaction by fraudulent transactions\n",
    "print(Fraud.Amount.describe())\n",
    "print(Valid.Amount.describe())\n",
    "\n",
    "# Boxplot outliers and whiskers \n",
    "fig, (ax1, ax2) = plt.subplots(1, 2, figsize=(18, 6))\n",
    "\n",
    "sns.boxplot(ax=ax1, x=\"Class\", y=\"Amount\", hue=\"Class\", data=df_modified, palette={1: 'red', 0: 'green'}, showfliers=True)\n",
    "ax1.set_title('With Outliers')\n",
    "ax1.set_xlabel('Class (0: Valid, 1: Fraudulent)')\n",
    "ax1.set_ylabel('Transaction Amount')\n",
    "ax1.set_xticklabels(['Valid', 'Fraudulent'])\n",
    "\n",
    "sns.boxplot(ax=ax2, x=\"Class\", y=\"Amount\", hue=\"Class\", data=df_modified, palette={1: 'red', 0: 'green'}, showfliers=False)\n",
    "ax2.set_title('Without Outliers')\n",
    "ax2.set_xlabel('Class (0: Valid, 1: Fraudulent)')\n",
    "ax2.set_ylabel('Transaction Amount')\n",
    "ax2.set_xticklabels(['Valid', 'Fraudulent'])\n",
    "\n",
    "plt.tight_layout()\n",
    "plt.show()\n",
    "\n",
    "\n"
   ]
  },
  {
   "cell_type": "markdown",
   "metadata": {},
   "source": [
    "#### Correlation matrix - before sampling data"
   ]
  },
  {
   "cell_type": "code",
   "execution_count": 101,
   "metadata": {},
   "outputs": [
    {
     "name": "stdout",
     "output_type": "stream",
     "text": [
      "473\n"
     ]
    },
    {
     "data": {
      "text/html": [
       "<div>\n",
       "<style scoped>\n",
       "    .dataframe tbody tr th:only-of-type {\n",
       "        vertical-align: middle;\n",
       "    }\n",
       "\n",
       "    .dataframe tbody tr th {\n",
       "        vertical-align: top;\n",
       "    }\n",
       "\n",
       "    .dataframe thead th {\n",
       "        text-align: right;\n",
       "    }\n",
       "</style>\n",
       "<table border=\"1\" class=\"dataframe\">\n",
       "  <thead>\n",
       "    <tr style=\"text-align: right;\">\n",
       "      <th></th>\n",
       "      <th>Time</th>\n",
       "      <th>V1</th>\n",
       "      <th>V2</th>\n",
       "      <th>V3</th>\n",
       "      <th>V4</th>\n",
       "      <th>V5</th>\n",
       "      <th>V6</th>\n",
       "      <th>V7</th>\n",
       "      <th>V8</th>\n",
       "      <th>V9</th>\n",
       "      <th>...</th>\n",
       "      <th>V21</th>\n",
       "      <th>V22</th>\n",
       "      <th>V23</th>\n",
       "      <th>V24</th>\n",
       "      <th>V25</th>\n",
       "      <th>V26</th>\n",
       "      <th>V27</th>\n",
       "      <th>V28</th>\n",
       "      <th>Amount</th>\n",
       "      <th>Class</th>\n",
       "    </tr>\n",
       "  </thead>\n",
       "  <tbody>\n",
       "    <tr>\n",
       "      <th>10801</th>\n",
       "      <td>18399.0</td>\n",
       "      <td>-14.474437</td>\n",
       "      <td>6.503185</td>\n",
       "      <td>-17.712632</td>\n",
       "      <td>11.270352</td>\n",
       "      <td>-4.150142</td>\n",
       "      <td>-3.372098</td>\n",
       "      <td>-16.535807</td>\n",
       "      <td>-1.443947</td>\n",
       "      <td>-6.815273</td>\n",
       "      <td>...</td>\n",
       "      <td>-2.475962</td>\n",
       "      <td>0.342391</td>\n",
       "      <td>-3.564508</td>\n",
       "      <td>-0.818140</td>\n",
       "      <td>0.153408</td>\n",
       "      <td>0.755079</td>\n",
       "      <td>2.706566</td>\n",
       "      <td>-0.992916</td>\n",
       "      <td>1.00</td>\n",
       "      <td>1</td>\n",
       "    </tr>\n",
       "    <tr>\n",
       "      <th>241445</th>\n",
       "      <td>151029.0</td>\n",
       "      <td>-3.818214</td>\n",
       "      <td>2.551338</td>\n",
       "      <td>-4.759158</td>\n",
       "      <td>1.636967</td>\n",
       "      <td>-1.167900</td>\n",
       "      <td>-1.678413</td>\n",
       "      <td>-3.144732</td>\n",
       "      <td>1.245106</td>\n",
       "      <td>-1.692541</td>\n",
       "      <td>...</td>\n",
       "      <td>0.837685</td>\n",
       "      <td>0.761712</td>\n",
       "      <td>-0.417694</td>\n",
       "      <td>-0.469712</td>\n",
       "      <td>-0.225934</td>\n",
       "      <td>0.586415</td>\n",
       "      <td>-0.348107</td>\n",
       "      <td>0.087777</td>\n",
       "      <td>10.70</td>\n",
       "      <td>1</td>\n",
       "    </tr>\n",
       "    <tr>\n",
       "      <th>33688</th>\n",
       "      <td>37339.0</td>\n",
       "      <td>-0.760780</td>\n",
       "      <td>-3.461855</td>\n",
       "      <td>-1.257901</td>\n",
       "      <td>0.904568</td>\n",
       "      <td>-1.350295</td>\n",
       "      <td>-0.249022</td>\n",
       "      <td>1.387102</td>\n",
       "      <td>-0.309127</td>\n",
       "      <td>0.096138</td>\n",
       "      <td>...</td>\n",
       "      <td>0.565357</td>\n",
       "      <td>-0.727601</td>\n",
       "      <td>-1.052797</td>\n",
       "      <td>0.118082</td>\n",
       "      <td>0.126398</td>\n",
       "      <td>0.985244</td>\n",
       "      <td>-0.306863</td>\n",
       "      <td>0.160266</td>\n",
       "      <td>1059.95</td>\n",
       "      <td>0</td>\n",
       "    </tr>\n",
       "    <tr>\n",
       "      <th>156990</th>\n",
       "      <td>109298.0</td>\n",
       "      <td>-1.000611</td>\n",
       "      <td>3.346850</td>\n",
       "      <td>-5.534491</td>\n",
       "      <td>6.835802</td>\n",
       "      <td>-0.299803</td>\n",
       "      <td>0.095951</td>\n",
       "      <td>-2.440419</td>\n",
       "      <td>1.286301</td>\n",
       "      <td>-2.766438</td>\n",
       "      <td>...</td>\n",
       "      <td>0.439757</td>\n",
       "      <td>-0.694099</td>\n",
       "      <td>0.299660</td>\n",
       "      <td>-0.657601</td>\n",
       "      <td>0.101648</td>\n",
       "      <td>0.430457</td>\n",
       "      <td>0.824685</td>\n",
       "      <td>0.326952</td>\n",
       "      <td>186.13</td>\n",
       "      <td>1</td>\n",
       "    </tr>\n",
       "    <tr>\n",
       "      <th>149869</th>\n",
       "      <td>92092.0</td>\n",
       "      <td>-1.108478</td>\n",
       "      <td>3.448953</td>\n",
       "      <td>-6.216972</td>\n",
       "      <td>3.021052</td>\n",
       "      <td>-0.529901</td>\n",
       "      <td>-2.551375</td>\n",
       "      <td>-2.001743</td>\n",
       "      <td>1.092432</td>\n",
       "      <td>-0.836098</td>\n",
       "      <td>...</td>\n",
       "      <td>0.825951</td>\n",
       "      <td>1.144170</td>\n",
       "      <td>0.208559</td>\n",
       "      <td>-0.295497</td>\n",
       "      <td>-0.690232</td>\n",
       "      <td>-0.364749</td>\n",
       "      <td>0.229327</td>\n",
       "      <td>0.208830</td>\n",
       "      <td>18.00</td>\n",
       "      <td>1</td>\n",
       "    </tr>\n",
       "  </tbody>\n",
       "</table>\n",
       "<p>5 rows × 31 columns</p>\n",
       "</div>"
      ],
      "text/plain": [
       "            Time         V1        V2         V3         V4        V5  \\\n",
       "10801    18399.0 -14.474437  6.503185 -17.712632  11.270352 -4.150142   \n",
       "241445  151029.0  -3.818214  2.551338  -4.759158   1.636967 -1.167900   \n",
       "33688    37339.0  -0.760780 -3.461855  -1.257901   0.904568 -1.350295   \n",
       "156990  109298.0  -1.000611  3.346850  -5.534491   6.835802 -0.299803   \n",
       "149869   92092.0  -1.108478  3.448953  -6.216972   3.021052 -0.529901   \n",
       "\n",
       "              V6         V7        V8        V9  ...       V21       V22  \\\n",
       "10801  -3.372098 -16.535807 -1.443947 -6.815273  ... -2.475962  0.342391   \n",
       "241445 -1.678413  -3.144732  1.245106 -1.692541  ...  0.837685  0.761712   \n",
       "33688  -0.249022   1.387102 -0.309127  0.096138  ...  0.565357 -0.727601   \n",
       "156990  0.095951  -2.440419  1.286301 -2.766438  ...  0.439757 -0.694099   \n",
       "149869 -2.551375  -2.001743  1.092432 -0.836098  ...  0.825951  1.144170   \n",
       "\n",
       "             V23       V24       V25       V26       V27       V28   Amount  \\\n",
       "10801  -3.564508 -0.818140  0.153408  0.755079  2.706566 -0.992916     1.00   \n",
       "241445 -0.417694 -0.469712 -0.225934  0.586415 -0.348107  0.087777    10.70   \n",
       "33688  -1.052797  0.118082  0.126398  0.985244 -0.306863  0.160266  1059.95   \n",
       "156990  0.299660 -0.657601  0.101648  0.430457  0.824685  0.326952   186.13   \n",
       "149869  0.208559 -0.295497 -0.690232 -0.364749  0.229327  0.208830    18.00   \n",
       "\n",
       "        Class  \n",
       "10801       1  \n",
       "241445      1  \n",
       "33688       0  \n",
       "156990      1  \n",
       "149869      1  \n",
       "\n",
       "[5 rows x 31 columns]"
      ]
     },
     "execution_count": 101,
     "metadata": {},
     "output_type": "execute_result"
    }
   ],
   "source": [
    "# Since our classes are highly skewed we should make them equivalent in order to have a normal distribution of the classes.\n",
    "\n",
    "# Shuffle the data before creating the subsamples\n",
    "\n",
    "df_modified = df_modified.sample(frac=1)\n",
    "\n",
    "# Get the fraud transactions\n",
    "_fraud_df = df_modified[df_modified['Class'] == 1]\n",
    "\n",
    "# Get the number of fraud transactions\n",
    "num_fraud = len(_fraud_df)\n",
    "print(num_fraud)\n",
    "\n",
    "# Extract an equal number of non-fraud transactions\n",
    "_non_fraud_df = df_modified[df_modified['Class'] == 0].iloc[:num_fraud]\n",
    "\n",
    "normal_distributed_df = pd.concat([_fraud_df, _non_fraud_df])\n",
    "\n",
    "# Shuffle dataframe rows\n",
    "new_df = normal_distributed_df.sample(frac=1, random_state=42)\n",
    "\n",
    "new_df.head()"
   ]
  },
  {
   "cell_type": "code",
   "execution_count": 102,
   "metadata": {},
   "outputs": [
    {
     "data": {
      "image/png": "[encoded data removed]",
      "text/plain": [
       "<Figure size 864x648 with 2 Axes>"
      ]
     },
     "metadata": {
      "needs_background": "light"
     },
     "output_type": "display_data"
    }
   ],
   "source": [
    "# Correlation Matrix\n",
    "corrmat = df_modified.corr()\n",
    "fig = plt.figure(figsize=(12, 9))\n",
    "sns.heatmap(corrmat, cmap='coolwarm_r', vmin=-1, vmax=1)\n",
    "plt.title(\"Correlation Matrix\")\n",
    "plt.show()\n",
    "# "
   ]
  },
  {
   "cell_type": "markdown",
   "metadata": {},
   "source": [
    "PCA (Principal Component Analysis) is a dimensionality reduction method that transforms features into orthogonal components. As a result, the transformed features (principal components) are uncorrelated with each other. Therefore, for the PCA-derived features (V1, V2, ... V28), a correlation matrix would show little to no correlation between them.\n",
    "However, it's still valuable to check the correlation of non-PCA features (Time and Amount) with the target variable (Class). This can help determine if there's any relationship between these features and the probability of a transaction being fraudulent."
   ]
  },
  {
   "cell_type": "code",
   "execution_count": 103,
   "metadata": {},
   "outputs": [
    {
     "data": {
      "image/png": "[encoded data removed]",
      "text/plain": [
       "<Figure size 864x648 with 2 Axes>"
      ]
     },
     "metadata": {
      "needs_background": "light"
     },
     "output_type": "display_data"
    }
   ],
   "source": [
    "# Correlation Matrix between only Time, Amount and Class with values inside the graph\n",
    "corrmat = df_modified[['Time', 'Amount', 'Class']].corr()\n",
    "fig = plt.figure(figsize=(12, 9))\n",
    "sns.heatmap(corrmat, annot=True, cmap='coolwarm', vmin=-1, vmax=1)\n",
    "plt.title(\"Correlation Matrix\")\n",
    "plt.show()\n",
    "\n"
   ]
  },
  {
   "cell_type": "code",
   "execution_count": 104,
   "metadata": {},
   "outputs": [],
   "source": [
    "def plot_top_correlated_features(df, class_name, n_features=4):\n",
    "    \"\"\"\n",
    "    Plot the top n features most correlated with the specified class.\n",
    "    \n",
    "    Parameters:\n",
    "    - df: DataFrame with the data.\n",
    "    - class_name: Name of the class to compute correlations.\n",
    "    - n_features: Number of top features to plot (default is 4).\n",
    "    \"\"\"\n",
    "    # Calculate correlation of each feature with the specified class\n",
    "    feature_correlations = df.corr()[class_name].sort_values(ascending=False)\n",
    "\n",
    "    # Selecting the top features excluding the specified class\n",
    "    top_features = feature_correlations.iloc[1:n_features+1].index.tolist()\n",
    "\n",
    "    # Extracting correlation values for these top features\n",
    "    top_corr_values = feature_correlations[top_features]\n",
    "\n",
    "    # Plotting the horizontal line graph\n",
    "    plt.figure(figsize=(12, 7))\n",
    "    top_corr_values.plot(kind='barh', color='skyblue')\n",
    "    plt.title(f'Correlation of Top Features with {class_name}')\n",
    "    plt.xlabel('Correlation Value')\n",
    "    plt.ylabel('Feature')\n",
    "    plt.gca().invert_yaxis()  # To display the highest correlated feature at the top\n",
    "    plt.show()"
   ]
  },
  {
   "cell_type": "code",
   "execution_count": 105,
   "metadata": {},
   "outputs": [
    {
     "data": {
      "image/png": "[encoded data removed]",
      "text/plain": [
       "<Figure size 864x504 with 1 Axes>"
      ]
     },
     "metadata": {
      "needs_background": "light"
     },
     "output_type": "display_data"
    },
    {
     "data": {
      "image/png": "[encoded data removed]",
      "text/plain": [
       "<Figure size 864x504 with 1 Axes>"
      ]
     },
     "metadata": {
      "needs_background": "light"
     },
     "output_type": "display_data"
    },
    {
     "data": {
      "image/png": "[encoded data removed]",
      "text/plain": [
       "<Figure size 864x504 with 1 Axes>"
      ]
     },
     "metadata": {
      "needs_background": "light"
     },
     "output_type": "display_data"
    }
   ],
   "source": [
    "plot_top_correlated_features(df_modified, 'Time')\n",
    "plot_top_correlated_features(df_modified, 'Amount')\n",
    "plot_top_correlated_features(df_modified, 'Class')"
   ]
  },
  {
   "cell_type": "code",
   "execution_count": 106,
   "metadata": {},
   "outputs": [
    {
     "data": {
      "image/png": "[encoded data removed]",
      "text/plain": [
       "<Figure size 432x288 with 1 Axes>"
      ]
     },
     "metadata": {
      "needs_background": "light"
     },
     "output_type": "display_data"
    }
   ],
   "source": [
    "# Feature importance for class Time\n",
    "\n",
    "from sklearn.ensemble import ExtraTreesClassifier\n",
    "\n",
    "X = df_modified.iloc[:, :-1]\n",
    "y = df_modified.iloc[:, -1]\n",
    "\n",
    "model = ExtraTreesClassifier()\n",
    "model.fit(X, y)\n",
    "\n",
    "feat_importances = pd.Series(model.feature_importances_, index=X.columns)\n",
    "feat_importances.nlargest(10).plot(kind='barh')\n",
    "plt.title(\"Feature Importance\")\n",
    "plt.show()\n",
    "\n",
    "\n"
   ]
  },
  {
   "cell_type": "markdown",
   "metadata": {},
   "source": [
    "#### Amounts over time distributions "
   ]
  },
  {
   "cell_type": "code",
   "execution_count": 107,
   "metadata": {},
   "outputs": [
    {
     "name": "stderr",
     "output_type": "stream",
     "text": [
      "c:\\Users\\leo_b\\anaconda3\\lib\\site-packages\\seaborn\\distributions.py:2619: FutureWarning: `distplot` is a deprecated function and will be removed in a future version. Please adapt your code to use either `displot` (a figure-level function with similar flexibility) or `histplot` (an axes-level function for histograms).\n",
      "  warnings.warn(msg, FutureWarning)\n",
      "c:\\Users\\leo_b\\anaconda3\\lib\\site-packages\\seaborn\\distributions.py:2619: FutureWarning: `distplot` is a deprecated function and will be removed in a future version. Please adapt your code to use either `displot` (a figure-level function with similar flexibility) or `histplot` (an axes-level function for histograms).\n",
      "  warnings.warn(msg, FutureWarning)\n",
      "c:\\Users\\leo_b\\anaconda3\\lib\\site-packages\\seaborn\\distributions.py:2619: FutureWarning: `distplot` is a deprecated function and will be removed in a future version. Please adapt your code to use either `displot` (a figure-level function with similar flexibility) or `histplot` (an axes-level function for histograms).\n",
      "  warnings.warn(msg, FutureWarning)\n"
     ]
    },
    {
     "data": {
      "image/png": "[encoded data removed]",
      "text/plain": [
       "<Figure size 1296x360 with 3 Axes>"
      ]
     },
     "metadata": {
      "needs_background": "light"
     },
     "output_type": "display_data"
    }
   ],
   "source": [
    "# Plotting the distribution of 'Time' and 'Amount'\n",
    "fig, ax = plt.subplots(1, 3, figsize=(18, 5))\n",
    "\n",
    "sns.distplot(df_modified['Time'], ax=ax[0], color='b', bins=600)   \n",
    "ax[0].set_title('Distribution of Transaction Time', fontsize=14)\n",
    "ax[0].set_xlim([min(df_modified['Time']), max(df_modified['Time'])])\n",
    "\n",
    "sns.distplot(df_modified['Amount'], ax=ax[1], color='r')\n",
    "ax[1].set_title('Distribution of Transaction Amount', fontsize=14)\n",
    "ax[1].set_xlim([min(df_modified['Amount']), max(df_modified['Amount'])])\n",
    "\n",
    "sns.distplot(df['Amount'], ax=ax[2], color='r', bins=4000,  kde=False)\n",
    "ax[2].set_title('Distribution of Transaction Amount Zoom In', fontsize=14)\n",
    "ax[2].set_xlim([-1, 250])\n",
    "\n",
    "plt.show()"
   ]
  },
  {
   "cell_type": "markdown",
   "metadata": {},
   "source": [
    "#### Transaction (fraud and not) over time "
   ]
  },
  {
   "cell_type": "code",
   "execution_count": 151,
   "metadata": {},
   "outputs": [
    {
     "data": {
      "application/vnd.plotly.v1+json": {
       "config": {
        "linkText": "Export to plot.ly",
        "plotlyServerURL": "https://plot.ly",
        "showLink": false
       },
       "data": [
        {
         "legendgroup": "Not Fraud",
         "marker": {
          "color": "rgb(31, 119, 180)"
         },
         "mode": "lines",
         "name": "Not Fraud",
         "showlegend": true,
         "type": "scatter",
         "x": [
          0,
          345.584,
          691.168,
          1036.752,
          1382.336,
          1727.92,
          2073.504,
          2419.088,
          2764.672,
          3110.256,
          3455.84,
          3801.424,
          4147.008,
          4492.592,
          4838.176,
          5183.76,
          5529.344,
          5874.928,
          6220.512,
          6566.096,
          6911.68,
          7257.264,
          7602.848,
          7948.432,
          8294.016,
          8639.6,
          8985.184,
          9330.768,
          9676.352,
          10021.936,
          10367.52,
          10713.104,
          11058.688,
          11404.272,
          11749.856,
          12095.44,
          12441.024,
          12786.608,
          13132.192,
          13477.776,
          13823.36,
          14168.944,
          14514.528,
          14860.112,
          15205.696,
          15551.28,
          15896.864,
          16242.448,
          16588.032,
          16933.616,
          17279.2,
          17624.784,
          17970.368,
          18315.952,
          18661.536,
          19007.12,
          19352.704,
          19698.288,
          20043.872,
          20389.456,
          20735.04,
          21080.624,
          21426.208,
          21771.792,
          22117.376,
          22462.96,
          22808.544,
          23154.128,
          23499.712,
          23845.296,
          24190.88,
          24536.464,
          24882.048,
          25227.632,
          25573.216,
          25918.8,
          26264.384,
          26609.968,
          26955.552,
          27301.136,
          27646.72,
          27992.304,
          28337.888,
          28683.472,
          29029.056,
          29374.64,
          29720.224,
          30065.808,
          30411.392,
          30756.976,
          31102.56,
          31448.144,
          31793.728,
          32139.312,
          32484.896,
          32830.48,
          33176.064,
          33521.648,
          33867.232,
          34212.816,
          34558.4,
          34903.984,
          35249.568,
          35595.152,
          35940.736,
          36286.32,
          36631.904,
          36977.488,
          37323.072,
          37668.656,
          38014.24,
          38359.824,
          38705.408,
          39050.992,
          39396.576,
          39742.16,
          40087.744,
          40433.328,
          40778.912,
          41124.496,
          41470.08,
          41815.664,
          42161.248,
          42506.832,
          42852.416,
          43198,
          43543.584,
          43889.168,
          44234.752,
          44580.336,
          44925.92,
          45271.504,
          45617.088,
          45962.672,
          46308.256,
          46653.84,
          46999.424,
          47345.008,
          47690.592,
          48036.176,
          48381.76,
          48727.344,
          49072.928,
          49418.512,
          49764.096,
          50109.68,
          50455.264,
          50800.848,
          51146.432,
          51492.016,
          51837.6,
          52183.184,
          52528.768,
          52874.352,
          53219.936,
          53565.52,
          53911.104,
          54256.688,
          54602.272,
          54947.856,
          55293.44,
          55639.024,
          55984.608,
          56330.192,
          56675.776,
          57021.36,
          57366.944,
          57712.528,
          58058.112,
          58403.696,
          58749.28,
          59094.864,
          59440.448,
          59786.032,
          60131.616,
          60477.2,
          60822.784,
          61168.368,
          61513.952,
          61859.536,
          62205.12,
          62550.704,
          62896.288,
          63241.872,
          63587.456,
          63933.04,
          64278.624,
          64624.208,
          64969.792,
          65315.376,
          65660.96,
          66006.544,
          66352.128,
          66697.712,
          67043.296,
          67388.88,
          67734.464,
          68080.048,
          68425.632,
          68771.216,
          69116.8,
          69462.384,
          69807.968,
          70153.552,
          70499.136,
          70844.72,
          71190.304,
          71535.888,
          71881.472,
          72227.056,
          72572.64,
          72918.224,
          73263.808,
          73609.392,
          73954.976,
          74300.56,
          74646.144,
          74991.728,
          75337.312,
          75682.896,
          76028.48,
          76374.064,
          76719.648,
          77065.232,
          77410.816,
          77756.4,
          78101.984,
          78447.568,
          78793.152,
          79138.736,
          79484.32,
          79829.904,
          80175.488,
          80521.072,
          80866.656,
          81212.24,
          81557.824,
          81903.408,
          82248.992,
          82594.576,
          82940.16,
          83285.744,
          83631.328,
          83976.912,
          84322.496,
          84668.08,
          85013.664,
          85359.248,
          85704.832,
          86050.416,
          86396,
          86741.584,
          87087.168,
          87432.752,
          87778.336,
          88123.92,
          88469.504,
          88815.088,
          89160.672,
          89506.256,
          89851.84,
          90197.424,
          90543.008,
          90888.592,
          91234.176,
          91579.76,
          91925.344,
          92270.928,
          92616.512,
          92962.096,
          93307.68,
          93653.264,
          93998.848,
          94344.432,
          94690.016,
          95035.6,
          95381.184,
          95726.768,
          96072.352,
          96417.936,
          96763.52,
          97109.104,
          97454.688,
          97800.272,
          98145.856,
          98491.44,
          98837.024,
          99182.608,
          99528.192,
          99873.776,
          100219.36,
          100564.944,
          100910.528,
          101256.112,
          101601.696,
          101947.28,
          102292.864,
          102638.448,
          102984.032,
          103329.616,
          103675.2,
          104020.784,
          104366.368,
          104711.952,
          105057.536,
          105403.12,
          105748.704,
          106094.288,
          106439.872,
          106785.456,
          107131.04,
          107476.624,
          107822.208,
          108167.792,
          108513.376,
          108858.96,
          109204.544,
          109550.128,
          109895.712,
          110241.296,
          110586.88,
          110932.464,
          111278.048,
          111623.632,
          111969.216,
          112314.8,
          112660.384,
          113005.968,
          113351.552,
          113697.136,
          114042.72,
          114388.304,
          114733.888,
          115079.472,
          115425.056,
          115770.64,
          116116.224,
          116461.808,
          116807.392,
          117152.976,
          117498.56,
          117844.144,
          118189.728,
          118535.312,
          118880.896,
          119226.48,
          119572.064,
          119917.648,
          120263.232,
          120608.816,
          120954.4,
          121299.984,
          121645.568,
          121991.152,
          122336.736,
          122682.32,
          123027.904,
          123373.488,
          123719.072,
          124064.656,
          124410.24,
          124755.824,
          125101.408,
          125446.992,
          125792.576,
          126138.16,
          126483.744,
          126829.328,
          127174.912,
          127520.496,
          127866.08,
          128211.664,
          128557.248,
          128902.832,
          129248.416,
          129594,
          129939.584,
          130285.168,
          130630.752,
          130976.336,
          131321.92,
          131667.504,
          132013.088,
          132358.672,
          132704.256,
          133049.84,
          133395.424,
          133741.008,
          134086.592,
          134432.176,
          134777.76,
          135123.344,
          135468.928,
          135814.512,
          136160.096,
          136505.68,
          136851.264,
          137196.848,
          137542.432,
          137888.016,
          138233.6,
          138579.184,
          138924.768,
          139270.352,
          139615.936,
          139961.52,
          140307.104,
          140652.688,
          140998.272,
          141343.856,
          141689.44,
          142035.024,
          142380.608,
          142726.192,
          143071.776,
          143417.36,
          143762.944,
          144108.528,
          144454.112,
          144799.696,
          145145.28,
          145490.864,
          145836.448,
          146182.032,
          146527.616,
          146873.2,
          147218.784,
          147564.368,
          147909.952,
          148255.536,
          148601.12,
          148946.704,
          149292.288,
          149637.872,
          149983.456,
          150329.04,
          150674.624,
          151020.208,
          151365.792,
          151711.376,
          152056.96,
          152402.544,
          152748.128,
          153093.712,
          153439.296,
          153784.88,
          154130.464,
          154476.048,
          154821.632,
          155167.216,
          155512.8,
          155858.384,
          156203.968,
          156549.552,
          156895.136,
          157240.72,
          157586.304,
          157931.888,
          158277.472,
          158623.056,
          158968.64,
          159314.224,
          159659.808,
          160005.392,
          160350.976,
          160696.56,
          161042.144,
          161387.728,
          161733.312,
          162078.896,
          162424.48,
          162770.064,
          163115.648,
          163461.232,
          163806.816,
          164152.4,
          164497.984,
          164843.568,
          165189.152,
          165534.736,
          165880.32,
          166225.904,
          166571.488,
          166917.072,
          167262.656,
          167608.24,
          167953.824,
          168299.408,
          168644.992,
          168990.576,
          169336.16,
          169681.744,
          170027.328,
          170372.912,
          170718.496,
          171064.08,
          171409.664,
          171755.248,
          172100.832,
          172446.416
         ],
         "xaxis": "x",
         "y": [
          0.0000016922645070926802,
          0.0000017839865880558805,
          0.0000018697312301033627,
          0.000001948481763895829,
          0.000002019363676490328,
          0.0000020816700922884603,
          0.0000021348813232317713,
          0.000002178677593769411,
          0.0000022129443763277065,
          0.0000022377701363246255,
          0.000002253436660390042,
          0.000002260402504951788,
          0.000002259280433294126,
          0.000002250809988572134,
          0.0000022358265627182567,
          0.0000022152284559329924,
          0.0000021899434728518485,
          0.00000216089656917012,
          0.000002128979951200187,
          0.000002095026849783566,
          0.000002059789952160331,
          0.000002023925196498642,
          0.0000019879813311095946,
          0.0000019523953316777532,
          0.0000019174934722848876,
          0.0000018834975751532743,
          0.000001850535733078182,
          0.0000018186566176503662,
          0.0000017878463624208505,
          0.0000017580469464389517,
          0.000001729174999928738,
          0.0000017011400068609151,
          0.0000016738609826070049,
          0.0000016472808502071263,
          0.0000016213779158558043,
          0.0000015961740417832688,
          0.0000015717393212024813,
          0.0000015481932640764835,
          0.0000015257026936240439,
          0.0000015044767225015244,
          0.0000014847593169010033,
          0.0000014668200607384349,
          0.000001450943797071835,
          0.000001437419848416119,
          0.0000014265315023004436,
          0.0000014185463957922548,
          0.000001413708347101364,
          0.0000014122310695946622,
          0.000001414294070634937,
          0.0000014200408925101924,
          0.0000014295797037267943,
          0.000001442986104569381,
          0.0000014603078791790906,
          0.000001481571314781783,
          0.000001506788623208758,
          0.0000015359659450136332,
          0.0000015691113949428624,
          0.000001606242619828139,
          0.0000016473933845592438,
          0.0000016926187750037834,
          0.000001741998703059939,
          0.0000017956395114573483,
          0.0000018536735964640884,
          0.000001916257086900298,
          0.000001983565729603035,
          0.0000020557892273755044,
          0.000002133124349536717,
          0.0000022157671833893494,
          0.000002303904915346733,
          0.0000023977075235017427,
          0.0000024973197317134282,
          0.000002602853523400314,
          0.0000027143814472504142,
          0.0000028319308739665396,
          0.0000029554792902086483,
          0.0000030849506498570336,
          0.00000322021274929044,
          0.00000336107555662292,
          0.0000035072904068122843,
          0.0000036585499751235066,
          0.000003814488958337767,
          0.000003974685422225309,
          0.0000041386628096519206,
          0.000004305892639973629,
          0.000004475797960771776,
          0.000004647757631789752,
          0.000004821111523788308,
          0.000004995166699392862,
          0.00000516920460847791,
          0.000005342489279091232,
          0.000005514276420334803,
          0.000005683823281705415,
          0.000005850399041008352,
          0.000006013295427425209,
          0.00000617183723468099,
          0.000006325392347520446,
          0.000006473380897250468,
          0.000006615283181204142,
          0.00000675064602655105,
          0.000006879087348514022,
          0.000007000298742161583,
          0.00000711404604929152,
          0.000007220167950061319,
          0.000007318572735068617,
          0.000007409233509828174,
          0.000007492182163155681,
          0.000007567502488341557,
          0.000007635322877403301,
          0.0000076958090123731,
          0.000007749156953734428,
          0.000007795586976926726,
          0.000007835338437156249,
          0.000007868665855700843,
          0.000007895836323636839,
          0.000007917128217945286,
          0.000007932831126916008,
          0.000007943246792888261,
          0.000007948690806114691,
          0.000007949494728411883,
          0.000007946008292431174,
          0.00000793860131365024,
          0.00000792766496785939,
          0.000007913612125788019,
          0.000007896876496033155,
          0.00000787791040379628,
          0.000007857181121270035,
          0.00000783516576034966,
          0.000007812344833745245,
          0.000007789194680688433,
          0.000007766179032716349,
          0.000007743740058732463,
          0.000007722289272956607,
          0.000007702198712018594,
          0.000007683792787319703,
          0.000007667341196269805,
          0.000007653053232930716,
          0.000007641073777898525,
          0.000007631481172899565,
          0.000007624287102042136,
          0.000007619438513774237,
          0.000007616821530028077,
          0.000007616267206154905,
          0.000007617558930754226,
          0.000007620441191352703,
          0.000007624629382186525,
          0.0000076298202953763,
          0.000007635702917057287,
          0.000007641969145444206,
          0.000007648324057749595,
          0.000007654495376352074,
          0.000007660241820405701,
          0.000007665360075755413,
          0.000007669690171976768,
          0.00000767311911880071,
          0.00000767558272309749,
          0.000007677065579669026,
          0.00000767759930173051,
          0.000007677259127244686,
          0.00000767615910206006,
          0.000007674446096884863,
          0.000007672292959346071,
          0.0000076698911319658,
          0.000007667443079640931,
          0.000007665154864838996,
          0.000007663229185002847,
          0.000007661859145623988,
          0.000007661222986441938,
          0.000007661479910781587,
          0.000007662767093773285,
          0.00000766519786937719,
          0.000007668861024409232,
          0.000007673821065570198,
          0.000007680119277648704,
          0.000007687775361305898,
          0.000007696789429394166,
          0.000007707144152064865,
          0.000007718806871616474,
          0.000007731731554867725,
          0.000007745860509042055,
          0.000007761125850680272,
          0.00000777745077928898,
          0.000007794750761501878,
          0.000007812934771307427,
          0.000007831906752398927,
          0.000007851567466638991,
          0.000007871816866932187,
          0.000007892557084603215,
          0.000007913696054229988,
          0.000007935151718366002,
          0.000007956856667879912,
          0.000007978762988960272,
          0.00000800084701357786,
          0.000008023113614246284,
          0.000008045599652791283,
          0.0000080683761910889,
          0.000008091549101434929,
          0.000008115257774784865,
          0.000008139671713241527,
          0.000008164984903228513,
          0.000008191407990233928,
          0.000008219158406097422,
          0.00000824844872650349,
          0.0000082794736509219,
          0.000008312396092207901,
          0.000008347332932679169,
          0.000008384341044069988,
          0.00000842340417893754,
          0.000008464421321627613,
          0.000008507197040440716,
          0.00000855143431315803,
          0.00000859673021047577,
          0.000008642574721279959,
          0.000008688352895030611,
          0.000008733350364186503,
          0.000008776762197218986,
          0.000008817704923176448,
          0.000008855231464130825,
          0.000008888348613947206,
          0.000008916036612330672,
          0.000008937270283812527,
          0.000008951041144551793,
          0.000008956379828163329,
          0.000008952378148467258,
          0.000008938210105320901,
          0.00000891315115269314,
          0.000008876595088328413,
          0.000008828067992976557,
          0.000008767238743960696,
          0.00000869392575050883,
          0.00000860809970244656,
          0.000008509882283172295,
          0.000008399540964186602,
          0.000008277480162605432,
          0.000008144229195234166,
          0.00000800042759352538,
          0.000007846808444698826,
          0.000007684180489058755,
          0.000007513409728029219,
          0.000007335401280480724,
          0.000007151082168224191,
          0.000006961385619596624,
          0.000006767237359708961,
          0.000006569544215733559,
          0.000006369185215235895,
          0.000006167005204821762,
          0.0000059638108746131,
          0.000005760368949408241,
          0.0000055574062062474575,
          0.0000053556109048904355,
          0.000005155635174660913,
          0.000004958097888398906,
          0.0000047635875701716385,
          0.000004572664924725619,
          0.000004385864639072498,
          0.000004203696185082216,
          0.000004026643441180546,
          0.000003855163045955501,
          0.0000036896814917093324,
          0.0000035305910572618587,
          0.0000033782447627309654,
          0.00000323295060128818,
          0.000003094965361350854,
          0.000002964488395200026,
          0.0000028416557150814022,
          0.0000027265348044263486,
          0.0000026191205194935005,
          0.0000025193324256278064,
          0.0000024270138633018688,
          0.0000023419329737057094,
          0.0000022637858342293108,
          0.000002192201763892785,
          0.0000021267507615070493,
          0.000002066952939647835,
          0.0000020122897203855454,
          0.000001962216469334041,
          0.0000019161761680445077,
          0.0000018736136656897386,
          0.0000018339900131669777,
          0.0000017967963688638144,
          0.0000017615669766639329,
          0.0000017278907530597523,
          0.0000016954210796514008,
          0.0000016638834765108594,
          0.0000016330809262719591,
          0.0000016028967228164768,
          0.000001573294825950771,
          0.0000015443178083041818,
          0.000001516082576971205,
          0.0000014887741350584348,
          0.000001462637713287081,
          0.0000014379696464599724,
          0.0000014151073927015378,
          0.000001394419095137893,
          0.0000013762930676512699,
          0.0000013611275512073419,
          0.0000013493210385592842,
          0.0000013412634069923457,
          0.0000013373280355324843,
          0.0000013378650189948521,
          0.0000013431955303521804,
          0.0000013536073285697342,
          0.0000013693513639643189,
          0.0000013906393991531056,
          0.0000014176425417073422,
          0.0000014504905747577407,
          0.0000014892719731798013,
          0.0000015340345039963515,
          0.000001584786327978237,
          0.0000016414975423115104,
          0.0000017041021285181311,
          0.000001772500292373923,
          0.0000018465612003089283,
          0.0000019261261270573235,
          0.0000020110120301139222,
          0.0000021010155566754274,
          0.000002195917468003478,
          0.000002295487435446778,
          0.00000239948912370187,
          0.000002507685433311121,
          0.000002619843729760266,
          0.0000027357408453101383,
          0.0000028551676065844585,
          0.0000029779326204730946,
          0.000003103865047081259,
          0.0000032328161042303864,
          0.000003364659085038404,
          0.0000034992877283768387,
          0.000003636612859740958,
          0.0000037765573137067715,
          0.000003919049253436665,
          0.000004064014111053023,
          0.000004211365477586526,
          0.000004360995364747001,
          0.000004512764335297379,
          0.00000466649204758286,
          0.000004821948777504059,
          0.0000049788484646412956,
          0.000005136843777449401,
          0.000005295523607081866,
          0.000005454413284676844,
          0.000005612977679341099,
          0.0000057706271820068,
          0.000005926726423488643,
          0.000006080605423717577,
          0.000006231572733355432,
          0.000006378930017908941,
          0.000006521987455518595,
          0.000006660079278009145,
          0.000006792578783093915,
          0.000006918912183583917,
          0.000007038570733976693,
          0.000007151120680318566,
          0.00000725621070805624,
          0.000007353576705610048,
          0.000007443043808723511,
          0.000007524525832431211,
          0.000007598022324643752,
          0.000007663613580191253,
          0.000007721454030951503,
          0.00000777176447297287,
          0.00000781482360423709,
          0.0000078509593283099,
          0.000007880540233084468,
          0.000007903967585479518,
          0.000007921668098842372,
          0.000007934087637156332,
          0.000007941685926313311,
          0.000007944932254466255,
          0.000007944302066734026,
          0.00000794027429879213,
          0.000007933329252109907,
          0.000007923946792093055,
          0.000007912604648813279,
          0.000007899776616639262,
          0.000007885930480988402,
          0.00000787152554388637,
          0.000007857009670873002,
          0.000007842815835789196,
          0.000007829358193116595,
          0.000007817027756341218,
          0.00000780618780250958,
          0.000007797169155765545,
          0.000007790265525058599,
          0.000007785729083033102,
          0.000007783766474595261,
          0.000007784535435616303,
          0.000007788142185748236,
          0.0000077946397357368,
          0.000007804027220248628,
          0.000007816250333451023,
          0.000007831202907622741,
          0.000007848729636164145,
          0.000007868629902618563,
          0.000007890662637896642,
          0.000007914552089970465,
          0.0000079399943551987,
          0.00000796666448948859,
          0.000007994223992179737,
          0.00000802232843726183,
          0.000008050635016680907,
          0.000008078809760120858,
          0.000008106534205563894,
          0.000008133511315310725,
          0.000008159470462658752,
          0.000008184171354003947,
          0.000008207406798047458,
          0.000008229004285648519,
          0.000008248826397818406,
          0.000008266770112161602,
          0.000008282765126431557,
          0.000008296771358589446,
          0.000008308775813117037,
          0.000008318789021201747,
          0.000008326841266624886,
          0.000008332978799511068,
          0.000008337260217471013,
          0.0000083397531600344,
          0.000008340531420545008,
          0.000008339672533492813,
          0.000008337255848667408,
          0.00000833336106063847,
          0.000008328067126779637,
          0.000008321451482465504,
          0.000008313589450373455,
          0.000008304553742894024,
          0.000008294413971990333,
          0.000008283236107597471,
          0.0000082710818605746,
          0.00000825800800528112,
          0.000008244065695203844,
          0.000008229299857937094,
          0.000008213748778706332,
          0.000008197443991009857,
          0.000008180410586557002,
          0.0000081626680339239,
          0.000008144231557378537,
          0.000008125114077017466,
          0.000008105328653123069,
          0.000008084891316933586,
          0.000008063824112918719,
          0.00000804215813014493,
          0.000008019936267795234,
          0.000007997215466506602,
          0.00000797406814540311,
          0.000007950582615085486,
          0.000007926862287912778,
          0.000007903023575331444,
          0.00000787919244278457,
          0.000007855499679850507,
          0.000007832075030030578,
          0.000007809040404479041,
          0.000007786502470982998,
          0.00000776454495879467,
          0.000007743221048149708,
          0.000007722546218791389,
          0.000007702491914632624,
          0.000007682980343496144,
          0.000007663880674729619,
          0.000007645006827510734,
          0.000007626116963535116,
          0.0000076069147145895084,
          0.0000075870520931103366,
          0.00000756613395679867,
          0.000007543723830621026,
          0.0000075193508342767525,
          0.000007492517422860162,
          0.000007462707624595043,
          0.0000074293954529578354,
          0.000007392053181335119,
          0.000007350159195923093,
          0.000007303205185554799,
          0.000007250702483531669,
          0.00000719218744366542,
          0.000007127225807225347,
          0.000007055416095341866,
          0.000006976392138068472,
          0.000006889824921751315,
          0.0000067954239954353005,
          0.0000066929387196697145,
          0.000006582159662715726,
          0.000006462920446133378,
          0.000006335100311767606,
          0.000006198627624688019,
          0.0000060534844432111096,
          0.0000058997121814715564,
          0.000005737418268118998,
          0.000005566783574576545,
          0.000005388070257499978,
          0.0000052016295431511204,
          0.000005007908887004606,
          0.0000048074578799442405,
          0.000004600932251060319,
          0.000004389095341936033,
          0.0000041728165007217265,
          0.000003953065964797753,
          0.0000037309059630669,
          0.000003507477963836749,
          0.0000032839862096294027,
          0.0000030616779016088376,
          0.000002841820607993434
         ],
         "yaxis": "y"
        },
        {
         "legendgroup": "Fraud",
         "marker": {
          "color": "rgb(255, 127, 14)"
         },
         "mode": "lines",
         "name": "Fraud",
         "showlegend": true,
         "type": "scatter",
         "x": [
          406,
          745.884,
          1085.768,
          1425.652,
          1765.536,
          2105.42,
          2445.304,
          2785.188,
          3125.072,
          3464.956,
          3804.84,
          4144.724,
          4484.608,
          4824.492,
          5164.376,
          5504.26,
          5844.144,
          6184.028,
          6523.912,
          6863.796,
          7203.68,
          7543.564,
          7883.448,
          8223.332,
          8563.216,
          8903.1,
          9242.984,
          9582.868,
          9922.752,
          10262.636,
          10602.52,
          10942.404,
          11282.288,
          11622.172,
          11962.056,
          12301.94,
          12641.824,
          12981.708,
          13321.592,
          13661.476,
          14001.36,
          14341.244,
          14681.128,
          15021.012,
          15360.896,
          15700.78,
          16040.664,
          16380.548,
          16720.432,
          17060.316,
          17400.2,
          17740.084,
          18079.968,
          18419.852,
          18759.736,
          19099.62,
          19439.504,
          19779.388,
          20119.272,
          20459.156,
          20799.04,
          21138.924,
          21478.808,
          21818.692,
          22158.576,
          22498.46,
          22838.344,
          23178.228,
          23518.112,
          23857.996,
          24197.88,
          24537.764,
          24877.648,
          25217.532,
          25557.416,
          25897.3,
          26237.184,
          26577.068,
          26916.952,
          27256.836,
          27596.72,
          27936.604,
          28276.488,
          28616.372,
          28956.256,
          29296.14,
          29636.024,
          29975.908,
          30315.792,
          30655.676,
          30995.56,
          31335.444,
          31675.328,
          32015.212,
          32355.096,
          32694.98,
          33034.864,
          33374.748,
          33714.632,
          34054.516,
          34394.4,
          34734.284,
          35074.168,
          35414.052,
          35753.936,
          36093.82,
          36433.704,
          36773.588,
          37113.472,
          37453.356,
          37793.24,
          38133.124,
          38473.008,
          38812.892,
          39152.776,
          39492.66,
          39832.544,
          40172.428,
          40512.312,
          40852.196,
          41192.08,
          41531.964,
          41871.848,
          42211.732,
          42551.616,
          42891.5,
          43231.384,
          43571.268,
          43911.152,
          44251.036,
          44590.92,
          44930.804,
          45270.688,
          45610.572,
          45950.456,
          46290.34,
          46630.224,
          46970.108,
          47309.992,
          47649.876,
          47989.76,
          48329.644,
          48669.528,
          49009.412,
          49349.296,
          49689.18,
          50029.064,
          50368.948,
          50708.832,
          51048.716,
          51388.6,
          51728.484,
          52068.368,
          52408.252,
          52748.136,
          53088.02,
          53427.904,
          53767.788,
          54107.672,
          54447.556,
          54787.44,
          55127.324,
          55467.208,
          55807.092,
          56146.976,
          56486.86,
          56826.744,
          57166.628,
          57506.512,
          57846.396,
          58186.28,
          58526.164,
          58866.048,
          59205.932,
          59545.816,
          59885.7,
          60225.584,
          60565.468,
          60905.352,
          61245.236,
          61585.12,
          61925.004,
          62264.888,
          62604.772,
          62944.656,
          63284.54,
          63624.424,
          63964.308,
          64304.192,
          64644.076,
          64983.96,
          65323.844,
          65663.728,
          66003.612,
          66343.496,
          66683.38,
          67023.264,
          67363.148,
          67703.032,
          68042.916,
          68382.8,
          68722.684,
          69062.568,
          69402.452,
          69742.336,
          70082.22,
          70422.104,
          70761.988,
          71101.872,
          71441.756,
          71781.64,
          72121.524,
          72461.408,
          72801.292,
          73141.176,
          73481.06,
          73820.944,
          74160.828,
          74500.712,
          74840.596,
          75180.48,
          75520.364,
          75860.248,
          76200.132,
          76540.016,
          76879.9,
          77219.784,
          77559.668,
          77899.552,
          78239.436,
          78579.32,
          78919.204,
          79259.088,
          79598.972,
          79938.856,
          80278.74,
          80618.624,
          80958.508,
          81298.392,
          81638.276,
          81978.16,
          82318.044,
          82657.928,
          82997.812,
          83337.696,
          83677.58,
          84017.464,
          84357.348,
          84697.232,
          85037.116,
          85377,
          85716.884,
          86056.768,
          86396.652,
          86736.536,
          87076.42,
          87416.304,
          87756.188,
          88096.072,
          88435.956,
          88775.84,
          89115.724,
          89455.608,
          89795.492,
          90135.376,
          90475.26,
          90815.144,
          91155.028,
          91494.912,
          91834.796,
          92174.68,
          92514.564,
          92854.448,
          93194.332,
          93534.216,
          93874.1,
          94213.984,
          94553.868,
          94893.752,
          95233.636,
          95573.52,
          95913.404,
          96253.288,
          96593.172,
          96933.056,
          97272.94,
          97612.824,
          97952.708,
          98292.592,
          98632.476,
          98972.36,
          99312.244,
          99652.128,
          99992.012,
          100331.896,
          100671.78,
          101011.664,
          101351.548,
          101691.432,
          102031.316,
          102371.2,
          102711.084,
          103050.968,
          103390.852,
          103730.736,
          104070.62,
          104410.504,
          104750.388,
          105090.272,
          105430.156,
          105770.04,
          106109.924,
          106449.808,
          106789.692,
          107129.576,
          107469.46,
          107809.344,
          108149.228,
          108489.112,
          108828.996,
          109168.88,
          109508.764,
          109848.648,
          110188.532,
          110528.416,
          110868.3,
          111208.184,
          111548.068,
          111887.952,
          112227.836,
          112567.72,
          112907.604,
          113247.488,
          113587.372,
          113927.256,
          114267.14,
          114607.024,
          114946.908,
          115286.792,
          115626.676,
          115966.56,
          116306.444,
          116646.328,
          116986.212,
          117326.096,
          117665.98,
          118005.864,
          118345.748,
          118685.632,
          119025.516,
          119365.4,
          119705.284,
          120045.168,
          120385.052,
          120724.936,
          121064.82,
          121404.704,
          121744.588,
          122084.472,
          122424.356,
          122764.24,
          123104.124,
          123444.008,
          123783.892,
          124123.776,
          124463.66,
          124803.544,
          125143.428,
          125483.312,
          125823.196,
          126163.08,
          126502.964,
          126842.848,
          127182.732,
          127522.616,
          127862.5,
          128202.384,
          128542.268,
          128882.152,
          129222.036,
          129561.92,
          129901.804,
          130241.688,
          130581.572,
          130921.456,
          131261.34,
          131601.224,
          131941.108,
          132280.992,
          132620.876,
          132960.76,
          133300.644,
          133640.528,
          133980.412,
          134320.296,
          134660.18,
          135000.064,
          135339.948,
          135679.832,
          136019.716,
          136359.6,
          136699.484,
          137039.368,
          137379.252,
          137719.136,
          138059.02,
          138398.904,
          138738.788,
          139078.672,
          139418.556,
          139758.44,
          140098.324,
          140438.208,
          140778.092,
          141117.976,
          141457.86,
          141797.744,
          142137.628,
          142477.512,
          142817.396,
          143157.28,
          143497.164,
          143837.048,
          144176.932,
          144516.816,
          144856.7,
          145196.584,
          145536.468,
          145876.352,
          146216.236,
          146556.12,
          146896.004,
          147235.888,
          147575.772,
          147915.656,
          148255.54,
          148595.424,
          148935.308,
          149275.192,
          149615.076,
          149954.96,
          150294.844,
          150634.728,
          150974.612,
          151314.496,
          151654.38,
          151994.264,
          152334.148,
          152674.032,
          153013.916,
          153353.8,
          153693.684,
          154033.568,
          154373.452,
          154713.336,
          155053.22,
          155393.104,
          155732.988,
          156072.872,
          156412.756,
          156752.64,
          157092.524,
          157432.408,
          157772.292,
          158112.176,
          158452.06,
          158791.944,
          159131.828,
          159471.712,
          159811.596,
          160151.48,
          160491.364,
          160831.248,
          161171.132,
          161511.016,
          161850.9,
          162190.784,
          162530.668,
          162870.552,
          163210.436,
          163550.32,
          163890.204,
          164230.088,
          164569.972,
          164909.856,
          165249.74,
          165589.624,
          165929.508,
          166269.392,
          166609.276,
          166949.16,
          167289.044,
          167628.928,
          167968.812,
          168308.696,
          168648.58,
          168988.464,
          169328.348,
          169668.232,
          170008.116
         ],
         "xaxis": "x",
         "y": [
          0.000002689280613819602,
          0.0000027489188184834156,
          0.0000028088490754562597,
          0.0000028690440474353243,
          0.0000029294763812322758,
          0.0000029901187670573475,
          0.000003050943997581836,
          0.0000031119250265563234,
          0.0000031730350267613456,
          0.0000032342474470677962,
          0.0000032955360683858197,
          0.000003356875058283352,
          0.0000034182390240592655,
          0.0000034796030640604843,
          0.0000035409428170380903,
          0.000003602234509344011,
          0.0000036634549997776327,
          0.000003724581821899906,
          0.000003785593223642225,
          0.000003846468204047548,
          0.000003907186546992379,
          0.000003967728851750259,
          0.000004028076560269908,
          0.000004088211981054749,
          0.000004148118309544269,
          0.000004207779644912397,
          0.000004267181003212841,
          0.0000043263083268171245,
          0.000004385148490106327,
          0.000004443689301393995,
          0.000004501919501073792,
          0.000004559828756001514,
          0.000004617407650138058,
          0.000004674647671495613,
          0.00000473154119544607,
          0.000004788081464466378,
          0.000004844262564411422,
          0.000004900079397420364,
          0.000004955527651577301,
          0.000005010603767461686,
          0.000005065304901737642,
          0.000005119628887944745,
          0.000005173574194665292,
          0.000005227139881254782,
          0.0000052803255513335464,
          0.000005333131304247281,
          0.000005385557684713451,
          0.0000054376056308790005,
          0.000005489276421021471,
          0.000005540571619132393,
          0.000005591493019626298,
          0.000005642042591423099,
          0.0000056922224216543366,
          0.000005742034659245265,
          0.000005791481458625828,
          0.000005840564923822546,
          0.0000058892870531820045,
          0.0000059376496849735525,
          0.000005985654444115139,
          0.000006033302690260999,
          0.000006080595467483812,
          0.0000061275334557769945,
          0.000006174116924594398,
          0.000006220345688635679,
          0.00000626621906607557,
          0.000006311735839424281,
          0.000006356894219194561,
          0.000006401691810538305,
          0.000006446125583002554,
          0.0000064901918435406,
          0.000006533886212899508,
          0.00000657720360549049,
          0.000006620138212832936,
          0.000006662683490647139,
          0.000006704832149654701,
          0.000006746576150129161,
          0.000006787906700222987,
          0.000006828814258080389,
          0.000006869288537728962,
          0.000006909318518726698,
          0.000006948892459524372,
          0.000006987997914487677,
          0.000007026621754507175,
          0.000007064750191109213,
          0.000007102368803965772,
          0.000007139462571686887,
          0.000007176015905765453,
          0.000007212012687531181,
          0.0000072474363079578985,
          0.000007282269710156699,
          0.0000073164954343768216,
          0.000007350095665325979,
          0.000007383052281612729,
          0.000007415346907105758,
          0.0000074469609639973084,
          0.000007477875727352351,
          0.000007508072380919881,
          0.000007537532073978572,
          0.000007566235978986493,
          0.000007594165349802442,
          0.00000762130158024576,
          0.000007647626262762164,
          0.000007673121246963959,
          0.000007697768697816274,
          0.000007721551153243517,
          0.000007744451580935854,
          0.000007766453434140048,
          0.000007787540706226312,
          0.000007807697983829471,
          0.000007826910498371652,
          0.000007845164175782268,
          0.000007862445684241091,
          0.000007878742479780784,
          0.000007894042849596344,
          0.00000790833595292061,
          0.00000792161185933723,
          0.00000793386158441536,
          0.000007945077122563233,
          0.000007955251477010954,
          0.000007964378686846843,
          0.000007972453851044978,
          0.000007979473149435557,
          0.000007985433860583428,
          0.000007990334376553803,
          0.00000799417421455771,
          0.00000799695402548322,
          0.000007998675599331037,
          0.000007999341867586432,
          0.000007998956902570838,
          0.00000799752591382908,
          0.000007995055241618653,
          0.000007991552347578344,
          0.000007987025802663798,
          0.000007981485272446139,
          0.000007974941499878828,
          0.00000796740628564568,
          0.000007958892466209427,
          0.000007949413889687058,
          0.000007938985389682817,
          0.000007927622757214497,
          0.000007915342710872091,
          0.000007902162865350812,
          0.000007888101698501952,
          0.00000787317851704612,
          0.000007857413421094045,
          0.00000784082726761842,
          0.000007823441633019959,
          0.000007805278774927534,
          0.000007786361593370116,
          0.000007766713591453807,
          0.000007746358835673557,
          0.000007725321915983846,
          0.000007703627905746985,
          0.000007681302321672027,
          0.00000765837108385051,
          0.000007634860475988377,
          0.000007610797105926336,
          0.00000758620786653326,
          0.000007561119897049371,
          0.000007535560544948526,
          0.0000075095573283801885,
          0.000007483137899244276,
          0.000007456330006943515,
          0.000007429161462850429,
          0.000007401660105517764,
          0.0000073738537666539815,
          0.00000734577023787756,
          0.00000731743723825728,
          0.0000072888823826381974,
          0.000007260133150747295,
          0.000007231216857066287,
          0.0000072021606214538695,
          0.000007172991340494406,
          0.000007143735659545852,
          0.00000711441994545535,
          0.000007085070259907952,
          0.0000070557123333708215,
          0.0000070263715395932385,
          0.000006997072870621032,
          0.000006967840912283093,
          0.000006938699820107407,
          0.0000069096732956240146,
          0.000006880784563013347,
          0.000006852056346059919,
          0.000006823510845372884,
          0.000006795169715838166,
          0.000006767054044269463,
          0.000006739184327229186,
          0.000006711580448994546,
          0.000006684261659648189,
          0.000006657246553278184,
          0.000006630553046276789,
          0.000006604198355733652,
          0.0000065781989779244255,
          0.000006552570666902231,
          0.0000065273284132055976,
          0.000006502486422702801,
          0.000006478058095599317,
          0.00000645405600564147,
          0.000006430491879555995,
          0.0000064073765767717914,
          0.000006384720069476666,
          0.0000063625314230677286,
          0.000006340818777060867,
          0.000006319589326529872,
          0.000006298849304151875,
          0.000006278603962940543,
          0.000006258857559753769,
          0.000006239613339666531,
          0.000006220873521304126,
          0.000006202639283233828,
          0.000006184910751516618,
          0.000006167686988522538,
          0.0000061509659831154,
          0.000006134744642313473,
          0.0000061190187845337245,
          0.000006103783134526686,
          0.000006089031320108739,
          0.000006074755870796797,
          0.000006060948218448516,
          0.000006047598700008378,
          0.000006034696562456224,
          0.000006022229970051044,
          0.000006010186013957681,
          0.000005998550724338622,
          0.000005987309084986988,
          0.000005976445050569791,
          0.000005965941566543189,
          0.0000059557805917935075,
          0.000005945943124048747,
          0.000005936409228096716,
          0.0000059271580668357,
          0.000005918167935173787,
          0.0000059094162967822616,
          0.000005900879823697435,
          0.000005892534438754245,
          0.000005884355360823019,
          0.0000058763171528094,
          0.0000058683937723650215,
          0.000005860558625244734,
          0.000005852784621233778,
          0.000005845044232556197,
          0.00000583730955466369,
          0.000005829552369291818,
          0.000005821744209658925,
          0.000005813856427671395,
          0.000005805860262987221,
          0.0000057977269137794246,
          0.000005789427609029744,
          0.000005780933682173253,
          0.000005772216645904907,
          0.0000057632482679497755,
          0.000005754000647590764,
          0.000005744446292739683,
          0.000005734558197330537,
          0.0000057243099188080145,
          0.0000057136756554785265,
          0.000005702630323486863,
          0.0000056911496331779154,
          0.000005679210164600167,
          0.000005666789441906201,
          0.0000056538660064043895,
          0.000005640419488016618,
          0.000005626430674897823,
          0.000005611881580975792,
          0.000005596755511172537,
          0.000005581037124073437,
          0.0000055647124918151845,
          0.000005547769156970377,
          0.0000055301961862135255,
          0.000005511984220561896,
          0.000005493125521993672,
          0.000005473614016255989,
          0.000005453445331686626,
          0.00000543261683388479,
          0.000005411127656079045,
          0.000005388978725053959,
          0.000005366172782510903,
          0.000005342714401752975,
          0.000005318609999599761,
          0.000005293867843452588,
          0.000005268498053447715,
          0.000005242512599651057,
          0.000005215925294264954,
          0.0000051887517788345184,
          0.000005161009506458214,
          0.0000051327177190245364,
          0.000005103897419514072,
          0.000005074571339422948,
          0.000005044763901381345,
          0.000005014501177056684,
          0.0000049838108404483735,
          0.000004952722116696398,
          0.000004921265726542181,
          0.000004889473826594905,
          0.000004857379945571239,
          0.000004825018916690179,
          0.000004792426806417956,
          0.000004759640839770254,
          0.0000047266993223908336,
          0.0000046936415596360116,
          0.000004660507772904595,
          0.0000046273390134615285,
          0.000004594177074011398,
          0.000004561064398284899,
          0.000004528043988906925,
          0.000004495159313819966,
          0.000004462454211539818,
          0.000004429972795523369,
          0.0000043977593579295605,
          0.000004365858273054871,
          0.0000043343139007241126,
          0.0000043031704899151045,
          0.000004272472082893194,
          0.000004242262420127286,
          0.000004212584846254228,
          0.000004183482217352136,
          0.000004154996809776394,
          0.0000041271702308038816,
          0.000004100043331322468,
          0.000004073656120792732,
          0.000004048047684698609,
          0.000004023256104692417,
          0.000003999318381627615,
          0.00000397627036166039,
          0.000003954146665587668,
          0.0000039329806215759945,
          0.000003912804201421187,
          0.000003893647960464578,
          0.000003875540981276923,
          0.000003858510821205848,
          0.000003842583463867861,
          0.000003827783274650757,
          0.000003814132960276675,
          0.0000038016535324614694,
          0.000003790364275690427,
          0.0000037802827191159268,
          0.000003771424612567814,
          0.0000037638039066530157,
          0.000003757432736907099,
          0.000003752321411946789,
          0.0000037484784055598186,
          0.0000037459103526556965,
          0.0000037446220489894853,
          0.0000037446164545592695,
          0.000003745894700567695,
          0.0000037484560998280893,
          0.0000037522981604868997,
          0.000003757416602925649,
          0.0000037638053796988636,
          0.000003771456698357298,
          0.0000037803610470006887,
          0.0000037905072223993016,
          0.000003801882360519718,
          0.000003814471969287521,
          0.000003828259963417382,
          0.000003843228701139952,
          0.000003859359022654835,
          0.0000038766302901393385,
          0.000003895020429144411,
          0.000003914505971211309,
          0.0000039350620975456915,
          0.000003956662683589905,
          0.000003979280344338453,
          0.000004002886480247376,
          0.00000402745132359403,
          0.000004052943985150148,
          0.0000040793325010387595,
          0.000004106583879652401,
          0.000004134664148518867,
          0.00000416353840100879,
          0.0000041931708427882334,
          0.000004223524837928748,
          0.0000042545629545964314,
          0.000004286247010251148,
          0.000004318538116296509,
          0.000004351396722130983,
          0.00000438478265855977,
          0.000004418655180536808,
          0.000004452973009215464,
          0.000004487694373295548,
          0.000004522777049663121,
          0.000004558178403328054,
          0.000004593855426672511,
          0.000004629764778030978,
          0.00000466586281963001,
          0.000004702105654922105,
          0.0000047384491653548405,
          0.000004774849046621202,
          0.000004811260844442693,
          0.000004847639989940319,
          0.000004883941834652785,
          0.000004920121685263424,
          0.000004956134838100096,
          0.000004991936613473218,
          0.000005027482389918024,
          0.000005062727638407097,
          0.000005097627956598026,
          0.000005132139103180104,
          0.0000051662170323812255,
          0.0000051998179286934485,
          0.000005232898241871978,
          0.000005265414722258337,
          0.000005297324456473112,
          0.000005328584903518819,
          0.000005359153931327108,
          0.000005388989853778099,
          0.000005418051468212814,
          0.000005446298093452471,
          0.00000547368960833044,
          0.000005500186490734994,
          0.000005525749857152776,
          0.000005550341502694399,
          0.000005573923941575351,
          0.000005596460448016559,
          0.000005617915097520814,
          0.000005638252808472363,
          0.00000565743938399893,
          0.000005675441554027293,
          0.00000569222701745528,
          0.000005707764484355802,
          0.0000057220237181210184,
          0.0000057349755774479694,
          0.0000057465920580605035,
          0.000005756846334056512,
          0.000005765712798763977,
          0.000005773167104984594,
          0.0000057791862044997325,
          0.000005783748386709508,
          0.000005786833316273562,
          0.000005788422069619403,
          0.000005788497170183159,
          0.0000057870426222468284,
          0.000005784043943236051,
          0.000005779488194343657,
          0.000005773364009345334,
          0.000005765661621476769,
          0.000005756372888244104,
          0.000005745491314043983,
          0.0000057330120704736235,
          0.000005718932014216838,
          0.000005703249702397933,
          0.000005685965405301837,
          0.000005667081116366156,
          0.0000056466005593586484,
          0.00000562452919266174,
          0.000005600874210594878,
          0.00000557564454171429,
          0.000005548850844039815,
          0.000005520505497168138,
          0.000005490622591242163,
          0.000005459217912756866,
          0.000005426308927192457,
          0.000005391914758476678,
          0.000005356056165288927,
          0.000005318755514229748,
          0.000005280036749890183,
          0.000005239925361866287,
          0.000005198448348774496,
          0.000005155634179334416,
          0.000005111512750595285,
          0.000005066115343392703,
          0.0000050194745751312416,
          0.000004971624349998349,
          0.0000049225998067229575,
          0.000004872437264001001,
          0.000004821174163717426,
          0.000004768849012101717,
          0.000004715501318960386,
          0.000004661171535135882,
          0.000004605900988347146,
          0.000004549731817571182,
          0.000004492706906129735,
          0.00000443486981364825,
          0.000004376264707057339,
          0.000004316936290808666,
          0.000004256929736479231,
          0.000004196290611938249,
          0.000004135064810251235,
          0.000004073298478495187,
          0.000004011037946657774,
          0.0000039483296567914294,
          0.0000038852200925909056,
          0.000003821755709559851,
          0.0000037579828659284932,
          0.0000036939477544801695,
          0.000003629696335440091,
          0.000003565274270574617,
          0.000003500726858643529,
          0.0000034360989723422103,
          0.0000033714349968641514,
          0.0000033067787702074076,
          0.0000032421735253419566,
          0.000003177661834347423,
          0.000003113285554623225,
          0.000003049085777265579,
          0.0000029851027776979253,
          0.0000029213759686332526,
          0.0000028579438554389017,
          0.0000027948439939663063
         ],
         "yaxis": "y"
        }
       ],
       "layout": {
        "barmode": "overlay",
        "hovermode": "closest",
        "legend": {
         "traceorder": "reversed"
        },
        "template": {
         "data": {
          "bar": [
           {
            "error_x": {
             "color": "#2a3f5f"
            },
            "error_y": {
             "color": "#2a3f5f"
            },
            "marker": {
             "line": {
              "color": "#E5ECF6",
              "width": 0.5
             },
             "pattern": {
              "fillmode": "overlay",
              "size": 10,
              "solidity": 0.2
             }
            },
            "type": "bar"
           }
          ],
          "barpolar": [
           {
            "marker": {
             "line": {
              "color": "#E5ECF6",
              "width": 0.5
             },
             "pattern": {
              "fillmode": "overlay",
              "size": 10,
              "solidity": 0.2
             }
            },
            "type": "barpolar"
           }
          ],
          "carpet": [
           {
            "aaxis": {
             "endlinecolor": "#2a3f5f",
             "gridcolor": "white",
             "linecolor": "white",
             "minorgridcolor": "white",
             "startlinecolor": "#2a3f5f"
            },
            "baxis": {
             "endlinecolor": "#2a3f5f",
             "gridcolor": "white",
             "linecolor": "white",
             "minorgridcolor": "white",
             "startlinecolor": "#2a3f5f"
            },
            "type": "carpet"
           }
          ],
          "choropleth": [
           {
            "colorbar": {
             "outlinewidth": 0,
             "ticks": ""
            },
            "type": "choropleth"
           }
          ],
          "contour": [
           {
            "colorbar": {
             "outlinewidth": 0,
             "ticks": ""
            },
            "colorscale": [
             [
              0,
              "#0d0887"
             ],
             [
              0.1111111111111111,
              "#46039f"
             ],
             [
              0.2222222222222222,
              "#7201a8"
             ],
             [
              0.3333333333333333,
              "#9c179e"
             ],
             [
              0.4444444444444444,
              "#bd3786"
             ],
             [
              0.5555555555555556,
              "#d8576b"
             ],
             [
              0.6666666666666666,
              "#ed7953"
             ],
             [
              0.7777777777777778,
              "#fb9f3a"
             ],
             [
              0.8888888888888888,
              "#fdca26"
             ],
             [
              1,
              "#f0f921"
             ]
            ],
            "type": "contour"
           }
          ],
          "contourcarpet": [
           {
            "colorbar": {
             "outlinewidth": 0,
             "ticks": ""
            },
            "type": "contourcarpet"
           }
          ],
          "heatmap": [
           {
            "colorbar": {
             "outlinewidth": 0,
             "ticks": ""
            },
            "colorscale": [
             [
              0,
              "#0d0887"
             ],
             [
              0.1111111111111111,
              "#46039f"
             ],
             [
              0.2222222222222222,
              "#7201a8"
             ],
             [
              0.3333333333333333,
              "#9c179e"
             ],
             [
              0.4444444444444444,
              "#bd3786"
             ],
             [
              0.5555555555555556,
              "#d8576b"
             ],
             [
              0.6666666666666666,
              "#ed7953"
             ],
             [
              0.7777777777777778,
              "#fb9f3a"
             ],
             [
              0.8888888888888888,
              "#fdca26"
             ],
             [
              1,
              "#f0f921"
             ]
            ],
            "type": "heatmap"
           }
          ],
          "heatmapgl": [
           {
            "colorbar": {
             "outlinewidth": 0,
             "ticks": ""
            },
            "colorscale": [
             [
              0,
              "#0d0887"
             ],
             [
              0.1111111111111111,
              "#46039f"
             ],
             [
              0.2222222222222222,
              "#7201a8"
             ],
             [
              0.3333333333333333,
              "#9c179e"
             ],
             [
              0.4444444444444444,
              "#bd3786"
             ],
             [
              0.5555555555555556,
              "#d8576b"
             ],
             [
              0.6666666666666666,
              "#ed7953"
             ],
             [
              0.7777777777777778,
              "#fb9f3a"
             ],
             [
              0.8888888888888888,
              "#fdca26"
             ],
             [
              1,
              "#f0f921"
             ]
            ],
            "type": "heatmapgl"
           }
          ],
          "histogram": [
           {
            "marker": {
             "pattern": {
              "fillmode": "overlay",
              "size": 10,
              "solidity": 0.2
             }
            },
            "type": "histogram"
           }
          ],
          "histogram2d": [
           {
            "colorbar": {
             "outlinewidth": 0,
             "ticks": ""
            },
            "colorscale": [
             [
              0,
              "#0d0887"
             ],
             [
              0.1111111111111111,
              "#46039f"
             ],
             [
              0.2222222222222222,
              "#7201a8"
             ],
             [
              0.3333333333333333,
              "#9c179e"
             ],
             [
              0.4444444444444444,
              "#bd3786"
             ],
             [
              0.5555555555555556,
              "#d8576b"
             ],
             [
              0.6666666666666666,
              "#ed7953"
             ],
             [
              0.7777777777777778,
              "#fb9f3a"
             ],
             [
              0.8888888888888888,
              "#fdca26"
             ],
             [
              1,
              "#f0f921"
             ]
            ],
            "type": "histogram2d"
           }
          ],
          "histogram2dcontour": [
           {
            "colorbar": {
             "outlinewidth": 0,
             "ticks": ""
            },
            "colorscale": [
             [
              0,
              "#0d0887"
             ],
             [
              0.1111111111111111,
              "#46039f"
             ],
             [
              0.2222222222222222,
              "#7201a8"
             ],
             [
              0.3333333333333333,
              "#9c179e"
             ],
             [
              0.4444444444444444,
              "#bd3786"
             ],
             [
              0.5555555555555556,
              "#d8576b"
             ],
             [
              0.6666666666666666,
              "#ed7953"
             ],
             [
              0.7777777777777778,
              "#fb9f3a"
             ],
             [
              0.8888888888888888,
              "#fdca26"
             ],
             [
              1,
              "#f0f921"
             ]
            ],
            "type": "histogram2dcontour"
           }
          ],
          "mesh3d": [
           {
            "colorbar": {
             "outlinewidth": 0,
             "ticks": ""
            },
            "type": "mesh3d"
           }
          ],
          "parcoords": [
           {
            "line": {
             "colorbar": {
              "outlinewidth": 0,
              "ticks": ""
             }
            },
            "type": "parcoords"
           }
          ],
          "pie": [
           {
            "automargin": true,
            "type": "pie"
           }
          ],
          "scatter": [
           {
            "marker": {
             "colorbar": {
              "outlinewidth": 0,
              "ticks": ""
             }
            },
            "type": "scatter"
           }
          ],
          "scatter3d": [
           {
            "line": {
             "colorbar": {
              "outlinewidth": 0,
              "ticks": ""
             }
            },
            "marker": {
             "colorbar": {
              "outlinewidth": 0,
              "ticks": ""
             }
            },
            "type": "scatter3d"
           }
          ],
          "scattercarpet": [
           {
            "marker": {
             "colorbar": {
              "outlinewidth": 0,
              "ticks": ""
             }
            },
            "type": "scattercarpet"
           }
          ],
          "scattergeo": [
           {
            "marker": {
             "colorbar": {
              "outlinewidth": 0,
              "ticks": ""
             }
            },
            "type": "scattergeo"
           }
          ],
          "scattergl": [
           {
            "marker": {
             "colorbar": {
              "outlinewidth": 0,
              "ticks": ""
             }
            },
            "type": "scattergl"
           }
          ],
          "scattermapbox": [
           {
            "marker": {
             "colorbar": {
              "outlinewidth": 0,
              "ticks": ""
             }
            },
            "type": "scattermapbox"
           }
          ],
          "scatterpolar": [
           {
            "marker": {
             "colorbar": {
              "outlinewidth": 0,
              "ticks": ""
             }
            },
            "type": "scatterpolar"
           }
          ],
          "scatterpolargl": [
           {
            "marker": {
             "colorbar": {
              "outlinewidth": 0,
              "ticks": ""
             }
            },
            "type": "scatterpolargl"
           }
          ],
          "scatterternary": [
           {
            "marker": {
             "colorbar": {
              "outlinewidth": 0,
              "ticks": ""
             }
            },
            "type": "scatterternary"
           }
          ],
          "surface": [
           {
            "colorbar": {
             "outlinewidth": 0,
             "ticks": ""
            },
            "colorscale": [
             [
              0,
              "#0d0887"
             ],
             [
              0.1111111111111111,
              "#46039f"
             ],
             [
              0.2222222222222222,
              "#7201a8"
             ],
             [
              0.3333333333333333,
              "#9c179e"
             ],
             [
              0.4444444444444444,
              "#bd3786"
             ],
             [
              0.5555555555555556,
              "#d8576b"
             ],
             [
              0.6666666666666666,
              "#ed7953"
             ],
             [
              0.7777777777777778,
              "#fb9f3a"
             ],
             [
              0.8888888888888888,
              "#fdca26"
             ],
             [
              1,
              "#f0f921"
             ]
            ],
            "type": "surface"
           }
          ],
          "table": [
           {
            "cells": {
             "fill": {
              "color": "#EBF0F8"
             },
             "line": {
              "color": "white"
             }
            },
            "header": {
             "fill": {
              "color": "#C8D4E3"
             },
             "line": {
              "color": "white"
             }
            },
            "type": "table"
           }
          ]
         },
         "layout": {
          "annotationdefaults": {
           "arrowcolor": "#2a3f5f",
           "arrowhead": 0,
           "arrowwidth": 1
          },
          "autotypenumbers": "strict",
          "coloraxis": {
           "colorbar": {
            "outlinewidth": 0,
            "ticks": ""
           }
          },
          "colorscale": {
           "diverging": [
            [
             0,
             "#8e0152"
            ],
            [
             0.1,
             "#c51b7d"
            ],
            [
             0.2,
             "#de77ae"
            ],
            [
             0.3,
             "#f1b6da"
            ],
            [
             0.4,
             "#fde0ef"
            ],
            [
             0.5,
             "#f7f7f7"
            ],
            [
             0.6,
             "#e6f5d0"
            ],
            [
             0.7,
             "#b8e186"
            ],
            [
             0.8,
             "#7fbc41"
            ],
            [
             0.9,
             "#4d9221"
            ],
            [
             1,
             "#276419"
            ]
           ],
           "sequential": [
            [
             0,
             "#0d0887"
            ],
            [
             0.1111111111111111,
             "#46039f"
            ],
            [
             0.2222222222222222,
             "#7201a8"
            ],
            [
             0.3333333333333333,
             "#9c179e"
            ],
            [
             0.4444444444444444,
             "#bd3786"
            ],
            [
             0.5555555555555556,
             "#d8576b"
            ],
            [
             0.6666666666666666,
             "#ed7953"
            ],
            [
             0.7777777777777778,
             "#fb9f3a"
            ],
            [
             0.8888888888888888,
             "#fdca26"
            ],
            [
             1,
             "#f0f921"
            ]
           ],
           "sequentialminus": [
            [
             0,
             "#0d0887"
            ],
            [
             0.1111111111111111,
             "#46039f"
            ],
            [
             0.2222222222222222,
             "#7201a8"
            ],
            [
             0.3333333333333333,
             "#9c179e"
            ],
            [
             0.4444444444444444,
             "#bd3786"
            ],
            [
             0.5555555555555556,
             "#d8576b"
            ],
            [
             0.6666666666666666,
             "#ed7953"
            ],
            [
             0.7777777777777778,
             "#fb9f3a"
            ],
            [
             0.8888888888888888,
             "#fdca26"
            ],
            [
             1,
             "#f0f921"
            ]
           ]
          },
          "colorway": [
           "#636efa",
           "#EF553B",
           "#00cc96",
           "#ab63fa",
           "#FFA15A",
           "#19d3f3",
           "#FF6692",
           "#B6E880",
           "#FF97FF",
           "#FECB52"
          ],
          "font": {
           "color": "#2a3f5f"
          },
          "geo": {
           "bgcolor": "white",
           "lakecolor": "white",
           "landcolor": "#E5ECF6",
           "showlakes": true,
           "showland": true,
           "subunitcolor": "white"
          },
          "hoverlabel": {
           "align": "left"
          },
          "hovermode": "closest",
          "mapbox": {
           "style": "light"
          },
          "paper_bgcolor": "white",
          "plot_bgcolor": "#E5ECF6",
          "polar": {
           "angularaxis": {
            "gridcolor": "white",
            "linecolor": "white",
            "ticks": ""
           },
           "bgcolor": "#E5ECF6",
           "radialaxis": {
            "gridcolor": "white",
            "linecolor": "white",
            "ticks": ""
           }
          },
          "scene": {
           "xaxis": {
            "backgroundcolor": "#E5ECF6",
            "gridcolor": "white",
            "gridwidth": 2,
            "linecolor": "white",
            "showbackground": true,
            "ticks": "",
            "zerolinecolor": "white"
           },
           "yaxis": {
            "backgroundcolor": "#E5ECF6",
            "gridcolor": "white",
            "gridwidth": 2,
            "linecolor": "white",
            "showbackground": true,
            "ticks": "",
            "zerolinecolor": "white"
           },
           "zaxis": {
            "backgroundcolor": "#E5ECF6",
            "gridcolor": "white",
            "gridwidth": 2,
            "linecolor": "white",
            "showbackground": true,
            "ticks": "",
            "zerolinecolor": "white"
           }
          },
          "shapedefaults": {
           "line": {
            "color": "#2a3f5f"
           }
          },
          "ternary": {
           "aaxis": {
            "gridcolor": "white",
            "linecolor": "white",
            "ticks": ""
           },
           "baxis": {
            "gridcolor": "white",
            "linecolor": "white",
            "ticks": ""
           },
           "bgcolor": "#E5ECF6",
           "caxis": {
            "gridcolor": "white",
            "linecolor": "white",
            "ticks": ""
           }
          },
          "title": {
           "x": 0.05
          },
          "xaxis": {
           "automargin": true,
           "gridcolor": "white",
           "linecolor": "white",
           "ticks": "",
           "title": {
            "standoff": 15
           },
           "zerolinecolor": "white",
           "zerolinewidth": 2
          },
          "yaxis": {
           "automargin": true,
           "gridcolor": "white",
           "linecolor": "white",
           "ticks": "",
           "title": {
            "standoff": 15
           },
           "zerolinecolor": "white",
           "zerolinewidth": 2
          }
         }
        },
        "title": {
         "text": "Credit Card Transactions Time Density Plot"
        },
        "xaxis": {
         "anchor": "y2",
         "domain": [
          0,
          1
         ],
         "title": {
          "text": "Time [s]"
         },
         "zeroline": false
        },
        "yaxis": {
         "anchor": "free",
         "domain": [
          0,
          1
         ],
         "position": 0,
         "title": {
          "text": "Density"
         }
        }
       }
      }
     },
     "metadata": {},
     "output_type": "display_data"
    }
   ],
   "source": [
    "import plotly.figure_factory as ff\n",
    "from plotly.offline import iplot\n",
    "import numpy as np\n",
    "\n",
    "\n",
    "class_0 = df_modified.loc[df_modified['Class'] == 0][\"Time\"]\n",
    "class_1 = df_modified.loc[df_modified['Class'] == 1][\"Time\"]\n",
    "\n",
    "hist_data = [class_0, class_1]\n",
    "group_labels = ['Not Fraud', 'Fraud']\n",
    "\n",
    "fig = ff.create_distplot(hist_data, group_labels, show_hist=False, show_rug=False)\n",
    "fig['layout'].update(title='Credit Card Transactions Time Density Plot', xaxis=dict(title='Time [s]'), yaxis=dict(title='Density'))\n",
    "iplot(fig, filename='dist_only')"
   ]
  },
  {
   "cell_type": "code",
   "execution_count": 156,
   "metadata": {},
   "outputs": [
    {
     "name": "stderr",
     "output_type": "stream",
     "text": [
      "c:\\Users\\leo_b\\anaconda3\\lib\\site-packages\\seaborn\\distributions.py:2619: FutureWarning:\n",
      "\n",
      "`distplot` is a deprecated function and will be removed in a future version. Please adapt your code to use either `displot` (a figure-level function with similar flexibility) or `histplot` (an axes-level function for histograms).\n",
      "\n",
      "c:\\Users\\leo_b\\anaconda3\\lib\\site-packages\\seaborn\\distributions.py:2619: FutureWarning:\n",
      "\n",
      "`distplot` is a deprecated function and will be removed in a future version. Please adapt your code to use either `displot` (a figure-level function with similar flexibility) or `histplot` (an axes-level function for histograms).\n",
      "\n"
     ]
    },
    {
     "data": {
      "image/png": "[encoded data removed]",
      "text/plain": [
       "<Figure size 1296x360 with 1 Axes>"
      ]
     },
     "metadata": {
      "needs_background": "light"
     },
     "output_type": "display_data"
    }
   ],
   "source": [
    "# Histogram based on the amount of money h by hour of the day\n",
    "fig, ax = plt.subplots(1, 1, figsize=(18, 5))\n",
    "\n",
    "df_modified['hour'] = df_modified['Time'].apply(lambda x: np.ceil(float(x)/3600) % 24)\n",
    "sns.distplot(df_modified[df_modified['Class'] == 0]['hour'], bins=24, color='b', ax=ax, label='Not Fraud')\n",
    "sns.distplot(df_modified[df_modified['Class'] == 1]['hour'], bins=24, color='r', ax=ax, label='Fraud')\n",
    "ax.legend()\n",
    "ax.set_title('Fraudulent Transactions by Hour of the Day', fontsize=14)\n",
    "ax.set_xlim([-1, 24])\n",
    "plt.show()\n"
   ]
  },
  {
   "cell_type": "markdown",
   "metadata": {},
   "source": [
    "#### Transactions overview"
   ]
  },
  {
   "cell_type": "code",
   "execution_count": 143,
   "metadata": {},
   "outputs": [],
   "source": [
    "def bins_incrementation(bin_inc):\n",
    "    # Define the bins in increments of x\n",
    "    bins = list(range(0, int(df_modified['Amount'].max()) + bin_inc, bin_inc))\n",
    "\n",
    "    # Create a 'binned_amount' column in df_modified\n",
    "    df_modified['binned_amount'] = pd.cut(df_modified['Amount'], bins)\n",
    "\n",
    "    # For fraud cases\n",
    "    fraud_counts = df_modified[df_modified['Class'] == 1]['binned_amount'].value_counts().sort_values(ascending=False)\n",
    "    for i in fraud_counts.index:\n",
    "        fraud_counts[i] = fraud_counts[i]/sum(fraud_counts)*100\n",
    "        \n",
    "    # For non-fraud cases\n",
    "    non_fraud_counts = df_modified[df_modified['Class'] == 0]['binned_amount'].value_counts().sort_values(ascending=False)\n",
    "    for i in non_fraud_counts.index:\n",
    "        non_fraud_counts[i] = non_fraud_counts[i]/sum(non_fraud_counts)*100\n",
    "\n",
    "    return fraud_counts, non_fraud_counts"
   ]
  },
  {
   "cell_type": "code",
   "execution_count": 141,
   "metadata": {},
   "outputs": [],
   "source": [
    "# Displaying the most common ranges in a plot\n",
    "# do top 5\n",
    "\n",
    "\n",
    "\n",
    "def top_amonts(df, _label):\n",
    "    \"\"\"Plot of top 5 percentage for amount transactions.\n",
    "\n",
    "    Args:\n",
    "        df_ (pd.DataFrame): percentage of rages\n",
    "    \"\"\"\n",
    "    plt.figure(figsize=(12, 9))\n",
    "    df.head(5).plot(kind='bar', figsize=(12, 9), color='g')\n",
    "    # put pencentage on top of bars\n",
    "    for index, value in enumerate(df.head(5)):\n",
    "        plt.text(index, value + 0.5, str(round(value, 2))+'%')\n",
    "    plt.xticks(rotation=90)\n",
    "    plt.xlabel('Amount Range ($)')\n",
    "    plt.ylabel('Percentage of Transactions')\n",
    "    plt.title(f'Top 5 Frequency for {_label} Transactions')\n",
    "    plt.show()\n"
   ]
  },
  {
   "cell_type": "code",
   "execution_count": 145,
   "metadata": {},
   "outputs": [
    {
     "data": {
      "image/png": "[encoded data removed]",
      "text/plain": [
       "<Figure size 864x648 with 1 Axes>"
      ]
     },
     "metadata": {
      "needs_background": "light"
     },
     "output_type": "display_data"
    },
    {
     "data": {
      "image/png": "[encoded data removed]",
      "text/plain": [
       "<Figure size 864x648 with 1 Axes>"
      ]
     },
     "metadata": {
      "needs_background": "light"
     },
     "output_type": "display_data"
    },
    {
     "data": {
      "image/png": "[encoded data removed]",
      "text/plain": [
       "<Figure size 864x648 with 1 Axes>"
      ]
     },
     "metadata": {
      "needs_background": "light"
     },
     "output_type": "display_data"
    },
    {
     "data": {
      "image/png": "[encoded data removed]",
      "text/plain": [
       "<Figure size 864x648 with 1 Axes>"
      ]
     },
     "metadata": {
      "needs_background": "light"
     },
     "output_type": "display_data"
    }
   ],
   "source": [
    "fraud_counts_2, non_fraud_counts_2 = bins_incrementation(2)\n",
    "fraud_counts_10, non_fraud_counts_10 = bins_incrementation(10)\n",
    "\n",
    "top_amonts(fraud_counts_2, 'Fraud')\n",
    "top_amonts(non_fraud_counts_2, 'Non-Fraud')\n",
    "top_amonts(fraud_counts_10, 'Fraud')\n",
    "top_amonts(non_fraud_counts_10, 'Non-Fraud')"
   ]
  },
  {
   "cell_type": "code",
   "execution_count": 163,
   "metadata": {},
   "outputs": [
    {
     "data": {
      "image/png": "[encoded data removed]",
      "text/plain": [
       "<Figure size 864x504 with 1 Axes>"
      ]
     },
     "metadata": {
      "needs_background": "light"
     },
     "output_type": "display_data"
    },
    {
     "data": {
      "text/plain": [
       "V1    3.794806\n",
       "V2    2.711631\n",
       "V3    2.276121\n",
       "V4    1.999916\n",
       "V5    1.896152\n",
       "dtype: float64"
      ]
     },
     "execution_count": 163,
     "metadata": {},
     "output_type": "execute_result"
    }
   ],
   "source": [
    "#### Variation of the data\n",
    "\n",
    "# Importing necessary libraries\n",
    "import numpy as np\n",
    "\n",
    "# Assuming the PCA-transformed features are named V1, V2, ... Vn\n",
    "# Extracting only the PCA-transformed features\n",
    "pca_columns = [col for col in df_modified.columns if 'V' in col]\n",
    "pca_data = df_modified[pca_columns]\n",
    "\n",
    "# Calculating the variance for each PCA feature\n",
    "variances = pca_data.var()\n",
    "\n",
    "# Sorting the variances in descending order to get top features\n",
    "sorted_variances = variances.sort_values(ascending=False)\n",
    "\n",
    "# Plotting the Scree plot\n",
    "plt.figure(figsize=(12, 7))\n",
    "sorted_variances.plot(kind='bar', color='blue')\n",
    "plt.title('Variance Explained by Each Principal Component')\n",
    "plt.xlabel('Principal Components')\n",
    "plt.ylabel('Variance')\n",
    "plt.show()\n",
    "\n",
    "# Extracting top 5 features with the most variance\n",
    "top_5_features = sorted_variances.head(5)\n",
    "top_5_features\n"
   ]
  },
  {
   "cell_type": "markdown",
   "metadata": {},
   "source": [
    "#### Fit dist"
   ]
  },
  {
   "cell_type": "code",
   "execution_count": 164,
   "metadata": {},
   "outputs": [
    {
     "data": {
      "image/png": "[encoded data removed]",
      "text/plain": [
       "<Figure size 432x288 with 1 Axes>"
      ]
     },
     "metadata": {
      "needs_background": "light"
     },
     "output_type": "display_data"
    },
    {
     "data": {
      "image/png": "[encoded data removed]",
      "text/plain": [
       "<Figure size 432x288 with 1 Axes>"
      ]
     },
     "metadata": {
      "needs_background": "light"
     },
     "output_type": "display_data"
    },
    {
     "data": {
      "image/png": "[encoded data removed]",
      "text/plain": [
       "<Figure size 432x288 with 1 Axes>"
      ]
     },
     "metadata": {
      "needs_background": "light"
     },
     "output_type": "display_data"
    },
    {
     "data": {
      "image/png": "[encoded data removed]",
      "text/plain": [
       "<Figure size 432x288 with 1 Axes>"
      ]
     },
     "metadata": {
      "needs_background": "light"
     },
     "output_type": "display_data"
    },
    {
     "data": {
      "image/png": "[encoded data removed]",
      "text/plain": [
       "<Figure size 432x288 with 1 Axes>"
      ]
     },
     "metadata": {
      "needs_background": "light"
     },
     "output_type": "display_data"
    },
    {
     "data": {
      "image/png": "[encoded data removed]",
      "text/plain": [
       "<Figure size 432x288 with 1 Axes>"
      ]
     },
     "metadata": {
      "needs_background": "light"
     },
     "output_type": "display_data"
    },
    {
     "data": {
      "image/png": "[encoded data removed]",
      "text/plain": [
       "<Figure size 432x288 with 1 Axes>"
      ]
     },
     "metadata": {
      "needs_background": "light"
     },
     "output_type": "display_data"
    },
    {
     "data": {
      "image/png": "[encoded data removed]",
      "text/plain": [
       "<Figure size 432x288 with 1 Axes>"
      ]
     },
     "metadata": {
      "needs_background": "light"
     },
     "output_type": "display_data"
    },
    {
     "data": {
      "image/png": "[encoded data removed]",
      "text/plain": [
       "<Figure size 432x288 with 1 Axes>"
      ]
     },
     "metadata": {
      "needs_background": "light"
     },
     "output_type": "display_data"
    },
    {
     "data": {
      "image/png": "[encoded data removed]",
      "text/plain": [
       "<Figure size 432x288 with 1 Axes>"
      ]
     },
     "metadata": {
      "needs_background": "light"
     },
     "output_type": "display_data"
    },
    {
     "data": {
      "image/png": "[encoded data removed]",
      "text/plain": [
       "<Figure size 432x288 with 1 Axes>"
      ]
     },
     "metadata": {
      "needs_background": "light"
     },
     "output_type": "display_data"
    },
    {
     "data": {
      "image/png": "[encoded data removed]",
      "text/plain": [
       "<Figure size 432x288 with 1 Axes>"
      ]
     },
     "metadata": {
      "needs_background": "light"
     },
     "output_type": "display_data"
    },
    {
     "data": {
      "image/png": "[encoded data removed]",
      "text/plain": [
       "<Figure size 432x288 with 1 Axes>"
      ]
     },
     "metadata": {
      "needs_background": "light"
     },
     "output_type": "display_data"
    },
    {
     "data": {
      "image/png": "[encoded data removed]",
      "text/plain": [
       "<Figure size 432x288 with 1 Axes>"
      ]
     },
     "metadata": {
      "needs_background": "light"
     },
     "output_type": "display_data"
    },
    {
     "data": {
      "image/png": "[encoded data removed]",
      "text/plain": [
       "<Figure size 432x288 with 1 Axes>"
      ]
     },
     "metadata": {
      "needs_background": "light"
     },
     "output_type": "display_data"
    },
    {
     "data": {
      "image/png": "[encoded data removed]",
      "text/plain": [
       "<Figure size 432x288 with 1 Axes>"
      ]
     },
     "metadata": {
      "needs_background": "light"
     },
     "output_type": "display_data"
    },
    {
     "data": {
      "image/png": "[encoded data removed]",
      "text/plain": [
       "<Figure size 432x288 with 1 Axes>"
      ]
     },
     "metadata": {
      "needs_background": "light"
     },
     "output_type": "display_data"
    },
    {
     "data": {
      "image/png": "[encoded data removed]",
      "text/plain": [
       "<Figure size 432x288 with 1 Axes>"
      ]
     },
     "metadata": {
      "needs_background": "light"
     },
     "output_type": "display_data"
    },
    {
     "data": {
      "image/png": "[encoded data removed]",
      "text/plain": [
       "<Figure size 432x288 with 1 Axes>"
      ]
     },
     "metadata": {
      "needs_background": "light"
     },
     "output_type": "display_data"
    },
    {
     "data": {
      "image/png": "[encoded data removed]",
      "text/plain": [
       "<Figure size 432x288 with 1 Axes>"
      ]
     },
     "metadata": {
      "needs_background": "light"
     },
     "output_type": "display_data"
    },
    {
     "data": {
      "image/png": "[encoded data removed]",
      "text/plain": [
       "<Figure size 432x288 with 1 Axes>"
      ]
     },
     "metadata": {
      "needs_background": "light"
     },
     "output_type": "display_data"
    },
    {
     "data": {
      "image/png": "[encoded data removed]",
      "text/plain": [
       "<Figure size 432x288 with 1 Axes>"
      ]
     },
     "metadata": {
      "needs_background": "light"
     },
     "output_type": "display_data"
    },
    {
     "data": {
      "image/png": "[encoded data removed]",
      "text/plain": [
       "<Figure size 432x288 with 1 Axes>"
      ]
     },
     "metadata": {
      "needs_background": "light"
     },
     "output_type": "display_data"
    },
    {
     "data": {
      "image/png": "[encoded data removed]",
      "text/plain": [
       "<Figure size 432x288 with 1 Axes>"
      ]
     },
     "metadata": {
      "needs_background": "light"
     },
     "output_type": "display_data"
    },
    {
     "data": {
      "image/png": "[encoded data removed]",
      "text/plain": [
       "<Figure size 432x288 with 1 Axes>"
      ]
     },
     "metadata": {
      "needs_background": "light"
     },
     "output_type": "display_data"
    },
    {
     "data": {
      "image/png": "[encoded data removed]",
      "text/plain": [
       "<Figure size 432x288 with 1 Axes>"
      ]
     },
     "metadata": {
      "needs_background": "light"
     },
     "output_type": "display_data"
    },
    {
     "data": {
      "image/png": "[encoded data removed]",
      "text/plain": [
       "<Figure size 432x288 with 1 Axes>"
      ]
     },
     "metadata": {
      "needs_background": "light"
     },
     "output_type": "display_data"
    },
    {
     "data": {
      "image/png": "[encoded data removed]",
      "text/plain": [
       "<Figure size 432x288 with 1 Axes>"
      ]
     },
     "metadata": {
      "needs_background": "light"
     },
     "output_type": "display_data"
    },
    {
     "data": {
      "image/png": "[encoded data removed]",
      "text/plain": [
       "<Figure size 432x288 with 1 Axes>"
      ]
     },
     "metadata": {
      "needs_background": "light"
     },
     "output_type": "display_data"
    },
    {
     "data": {
      "image/png": "[encoded data removed]",
      "text/plain": [
       "<Figure size 432x288 with 1 Axes>"
      ]
     },
     "metadata": {
      "needs_background": "light"
     },
     "output_type": "display_data"
    },
    {
     "data": {
      "image/png": "[encoded data removed]",
      "text/plain": [
       "<Figure size 432x288 with 1 Axes>"
      ]
     },
     "metadata": {
      "needs_background": "light"
     },
     "output_type": "display_data"
    },
    {
     "ename": "TypeError",
     "evalue": "ufunc 'isfinite' not supported for the input types, and the inputs could not be safely coerced to any supported types according to the casting rule ''safe''",
     "output_type": "error",
     "traceback": [
      "\u001b[1;31m---------------------------------------------------------------------------\u001b[0m",
      "\u001b[1;31mTypeError\u001b[0m                                 Traceback (most recent call last)",
      "\u001b[1;32mc:\\Users\\leo_b\\OneDrive\\Documentos\\Projects\\personal_projects\\Applications_DSE\\code\\data_exploration.ipynb Cell 40\u001b[0m line \u001b[0;36m<cell line: 26>\u001b[1;34m()\u001b[0m\n\u001b[0;32m     <a href='vscode-notebook-cell:/c%3A/Users/leo_b/OneDrive/Documentos/Projects/personal_projects/Applications_DSE/code/data_exploration.ipynb#Y102sZmlsZQ%3D%3D?line=25'>26</a>\u001b[0m \u001b[39mfor\u001b[39;00m feature \u001b[39min\u001b[39;00m df_modified\u001b[39m.\u001b[39mcolumns:\n\u001b[0;32m     <a href='vscode-notebook-cell:/c%3A/Users/leo_b/OneDrive/Documentos/Projects/personal_projects/Applications_DSE/code/data_exploration.ipynb#Y102sZmlsZQ%3D%3D?line=26'>27</a>\u001b[0m     data \u001b[39m=\u001b[39m df_modified[feature]\n\u001b[1;32m---> <a href='vscode-notebook-cell:/c%3A/Users/leo_b/OneDrive/Documentos/Projects/personal_projects/Applications_DSE/code/data_exploration.ipynb#Y102sZmlsZQ%3D%3D?line=27'>28</a>\u001b[0m     params \u001b[39m=\u001b[39m fit_distribution(data, \u001b[39m'\u001b[39;49m\u001b[39mnorm\u001b[39;49m\u001b[39m'\u001b[39;49m)\n\u001b[0;32m     <a href='vscode-notebook-cell:/c%3A/Users/leo_b/OneDrive/Documentos/Projects/personal_projects/Applications_DSE/code/data_exploration.ipynb#Y102sZmlsZQ%3D%3D?line=28'>29</a>\u001b[0m     plot_fit(data, \u001b[39m'\u001b[39m\u001b[39mnorm\u001b[39m\u001b[39m'\u001b[39m, params)\n",
      "\u001b[1;32mc:\\Users\\leo_b\\OneDrive\\Documentos\\Projects\\personal_projects\\Applications_DSE\\code\\data_exploration.ipynb Cell 40\u001b[0m line \u001b[0;36mfit_distribution\u001b[1;34m(data, dist_name)\u001b[0m\n\u001b[0;32m      <a href='vscode-notebook-cell:/c%3A/Users/leo_b/OneDrive/Documentos/Projects/personal_projects/Applications_DSE/code/data_exploration.ipynb#Y102sZmlsZQ%3D%3D?line=3'>4</a>\u001b[0m \u001b[39m\"\"\"Fit a distribution to data and return parameters.\"\"\"\u001b[39;00m\n\u001b[0;32m      <a href='vscode-notebook-cell:/c%3A/Users/leo_b/OneDrive/Documentos/Projects/personal_projects/Applications_DSE/code/data_exploration.ipynb#Y102sZmlsZQ%3D%3D?line=4'>5</a>\u001b[0m distribution \u001b[39m=\u001b[39m \u001b[39mgetattr\u001b[39m(stats, dist_name)\n\u001b[1;32m----> <a href='vscode-notebook-cell:/c%3A/Users/leo_b/OneDrive/Documentos/Projects/personal_projects/Applications_DSE/code/data_exploration.ipynb#Y102sZmlsZQ%3D%3D?line=5'>6</a>\u001b[0m params \u001b[39m=\u001b[39m distribution\u001b[39m.\u001b[39;49mfit(data)\n\u001b[0;32m      <a href='vscode-notebook-cell:/c%3A/Users/leo_b/OneDrive/Documentos/Projects/personal_projects/Applications_DSE/code/data_exploration.ipynb#Y102sZmlsZQ%3D%3D?line=6'>7</a>\u001b[0m \u001b[39mreturn\u001b[39;00m params\n",
      "File \u001b[1;32mc:\\Users\\leo_b\\anaconda3\\lib\\site-packages\\scipy\\stats\\_continuous_distns.py:74\u001b[0m, in \u001b[0;36m_call_super_mom.<locals>.wrapper\u001b[1;34m(self, data, *args, **kwds)\u001b[0m\n\u001b[0;32m     69\u001b[0m \u001b[39mif\u001b[39;00m censored:\n\u001b[0;32m     70\u001b[0m     \u001b[39m# data is an instance of CensoredData, but actually holds\u001b[39;00m\n\u001b[0;32m     71\u001b[0m     \u001b[39m# no censored values, so replace it with the array of\u001b[39;00m\n\u001b[0;32m     72\u001b[0m     \u001b[39m# uncensored values.\u001b[39;00m\n\u001b[0;32m     73\u001b[0m     data \u001b[39m=\u001b[39m data\u001b[39m.\u001b[39m_uncensored\n\u001b[1;32m---> 74\u001b[0m \u001b[39mreturn\u001b[39;00m fun(\u001b[39mself\u001b[39m, data, \u001b[39m*\u001b[39margs, \u001b[39m*\u001b[39m\u001b[39m*\u001b[39mkwds)\n",
      "File \u001b[1;32mc:\\Users\\leo_b\\anaconda3\\lib\\site-packages\\scipy\\stats\\_continuous_distns.py:415\u001b[0m, in \u001b[0;36mnorm_gen.fit\u001b[1;34m(self, data, **kwds)\u001b[0m\n\u001b[0;32m    410\u001b[0m     \u001b[39mraise\u001b[39;00m \u001b[39mValueError\u001b[39;00m(\u001b[39m\"\u001b[39m\u001b[39mAll parameters fixed. There is nothing to \u001b[39m\u001b[39m\"\u001b[39m\n\u001b[0;32m    411\u001b[0m                      \u001b[39m\"\u001b[39m\u001b[39moptimize.\u001b[39m\u001b[39m\"\u001b[39m)\n\u001b[0;32m    413\u001b[0m data \u001b[39m=\u001b[39m np\u001b[39m.\u001b[39masarray(data)\n\u001b[1;32m--> 415\u001b[0m \u001b[39mif\u001b[39;00m \u001b[39mnot\u001b[39;00m np\u001b[39m.\u001b[39;49misfinite(data)\u001b[39m.\u001b[39mall():\n\u001b[0;32m    416\u001b[0m     \u001b[39mraise\u001b[39;00m \u001b[39mValueError\u001b[39;00m(\u001b[39m\"\u001b[39m\u001b[39mThe data contains non-finite values.\u001b[39m\u001b[39m\"\u001b[39m)\n\u001b[0;32m    418\u001b[0m \u001b[39mif\u001b[39;00m floc \u001b[39mis\u001b[39;00m \u001b[39mNone\u001b[39;00m:\n",
      "\u001b[1;31mTypeError\u001b[0m: ufunc 'isfinite' not supported for the input types, and the inputs could not be safely coerced to any supported types according to the casting rule ''safe''"
     ]
    }
   ],
   "source": [
    "import scipy.stats as stats\n",
    "\n",
    "def fit_distribution(data, dist_name):\n",
    "    \"\"\"Fit a distribution to data and return parameters.\"\"\"\n",
    "    distribution = getattr(stats, dist_name)\n",
    "    params = distribution.fit(data)\n",
    "    return params\n",
    "\n",
    "def plot_fit(data, dist_name, params):\n",
    "    \"\"\"Plot the histogram of data and overlay the fitted distribution.\"\"\"\n",
    "    plt.hist(data, bins=30, density=True, alpha=0.6, color='b', label='Data')\n",
    "    \n",
    "    # Generate the x values for the PDF\n",
    "    xmin, xmax = plt.xlim()\n",
    "    x = np.linspace(xmin, xmax, 100)\n",
    "    \n",
    "    # Generate the PDF values using the fitted parameters\n",
    "    fitted_data = getattr(stats, dist_name).pdf(x, *params)\n",
    "    plt.plot(x, fitted_data, 'r-', label=dist_name)\n",
    "    \n",
    "    plt.title(f\"Fit for {dist_name}\")\n",
    "    plt.legend()\n",
    "    plt.show()\n",
    "\n",
    "# Example: Fit a normal distribution to each feature in the dataset\n",
    "for feature in df_modified.columns:\n",
    "    data = df_modified[feature]\n",
    "    params = fit_distribution(data, 'norm')\n",
    "    plot_fit(data, 'norm', params)"
   ]
  },
  {
   "cell_type": "markdown",
   "metadata": {},
   "source": [
    "### Outliers"
   ]
  },
  {
   "cell_type": "markdown",
   "metadata": {},
   "source": [
    "#### Interquartile Range Method"
   ]
  },
  {
   "cell_type": "code",
   "execution_count": 12,
   "metadata": {},
   "outputs": [
    {
     "name": "stdout",
     "output_type": "stream",
     "text": [
      "(207614, 31)\n",
      "   Time        V1        V2        V3        V4        V5        V6        V7  \\\n",
      "0   0.0 -1.359807 -0.072781  2.536347  1.378155 -0.338321  0.462388  0.239599   \n",
      "1   0.0  1.191857  0.266151  0.166480  0.448154  0.060018 -0.082361 -0.078803   \n",
      "3   1.0 -0.966272 -0.185226  1.792993 -0.863291 -0.010309  1.247203  0.237609   \n",
      "4   2.0 -1.158233  0.877737  1.548718  0.403034 -0.407193  0.095921  0.592941   \n",
      "5   2.0 -0.425966  0.960523  1.141109 -0.168252  0.420987 -0.029728  0.476201   \n",
      "\n",
      "         V8        V9  ...       V21       V22       V23       V24       V25  \\\n",
      "0  0.098698  0.363787  ... -0.018307  0.277838 -0.110474  0.066928  0.128539   \n",
      "1  0.085102 -0.255425  ... -0.225775 -0.638672  0.101288 -0.339846  0.167170   \n",
      "3  0.377436 -1.387024  ... -0.108300  0.005274 -0.190321 -1.175575  0.647376   \n",
      "4 -0.270533  0.817739  ... -0.009431  0.798278 -0.137458  0.141267 -0.206010   \n",
      "5  0.260314 -0.568671  ... -0.208254 -0.559825 -0.026398 -0.371427 -0.232794   \n",
      "\n",
      "        V26       V27       V28  Amount  Class  \n",
      "0 -0.189115  0.133558 -0.021053  149.62      0  \n",
      "1  0.125895 -0.008983  0.014724    2.69      0  \n",
      "3 -0.221929  0.062723  0.061458  123.50      0  \n",
      "4  0.502292  0.219422  0.215153   69.99      0  \n",
      "5  0.105915  0.253844  0.081080    3.67      0  \n",
      "\n",
      "[5 rows x 31 columns]\n"
     ]
    }
   ],
   "source": [
    "# Discover outliers in the dataset\n",
    "\n",
    "# Interquartile Range Method\n",
    "import numpy as np\n",
    "from scipy import stats\n",
    "df_outliers = df.copy()\n",
    "for i in df_outliers.columns:\n",
    "    if i != 'Class':\n",
    "        df_outliers = df_outliers[np.abs(stats.zscore(df_outliers[i])) < 3]\n",
    "print(df_outliers.shape)\n",
    "print(df_outliers.head(5))\n"
   ]
  },
  {
   "cell_type": "markdown",
   "metadata": {},
   "source": [
    "#### Normalization of Time and Amount (REVIEW) USE ANOTHER METHOD"
   ]
  },
  {
   "cell_type": "code",
   "execution_count": 108,
   "metadata": {},
   "outputs": [],
   "source": [
    "# Normalize the Time and Amount columns ONLY after removing the outliers\n",
    "from sklearn.preprocessing import StandardScaler\n",
    "\n",
    "def normalize_data(df): \n",
    "    df['Amount'] = StandardScaler().fit_transform(df['Amount'].values.reshape(-1, 1))\n",
    "    df['Time'] = StandardScaler().fit_transform(df['Time'].values.reshape(-1, 1))\n",
    "    return df"
   ]
  },
  {
   "cell_type": "code",
   "execution_count": null,
   "metadata": {},
   "outputs": [],
   "source": [
    "df_modified = normalize_data(df_modified)"
   ]
  }
 ],
 "metadata": {
  "kernelspec": {
   "display_name": "base",
   "language": "python",
   "name": "python3"
  },
  "language_info": {
   "codemirror_mode": {
    "name": "ipython",
    "version": 3
   },
   "file_extension": ".py",
   "mimetype": "text/x-python",
   "name": "python",
   "nbconvert_exporter": "python",
   "pygments_lexer": "ipython3",
   "version": "3.9.12"
  },
  "orig_nbformat": 4
 },
 "nbformat": 4,
 "nbformat_minor": 2
}
